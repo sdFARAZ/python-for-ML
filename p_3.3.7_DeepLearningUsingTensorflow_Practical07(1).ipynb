{
 "cells": [
  {
   "cell_type": "markdown",
   "id": "6973c59d",
   "metadata": {},
   "source": [
    "# 25-9-24      : Practical 3.4.7 - Deep Learning Using Tensor Flow\n",
    "\n",
    "## Faraz Syed | J008 | 40518220007"
   ]
  },
  {
   "cell_type": "markdown",
   "id": "01e1e446",
   "metadata": {},
   "source": [
    "# Solution-03"
   ]
  },
  {
   "cell_type": "code",
   "execution_count": null,
   "id": "24eaf7e6",
   "metadata": {},
   "outputs": [],
   "source": [
    "!pip install tensorflow"
   ]
  },
  {
   "cell_type": "code",
   "execution_count": 3,
   "id": "2e319c63",
   "metadata": {},
   "outputs": [
    {
     "name": "stdout",
     "output_type": "stream",
     "text": [
      "WARNING:tensorflow:From C:\\Users\\Admin\\anaconda3\\Lib\\site-packages\\keras\\src\\losses.py:2976: The name tf.losses.sparse_softmax_cross_entropy is deprecated. Please use tf.compat.v1.losses.sparse_softmax_cross_entropy instead.\n",
      "\n"
     ]
    }
   ],
   "source": [
    "import numpy as np\n",
    "from tensorflow.keras.preprocessing.text import one_hot\n",
    "from tensorflow.keras.preprocessing.sequence import pad_sequences\n",
    "from tensorflow.keras.models import Sequential\n",
    "from tensorflow.keras.layers import Dense\n",
    "from tensorflow.keras.layers import Flatten\n",
    "from tensorflow.keras.layers import Embedding"
   ]
  },
  {
   "cell_type": "code",
   "execution_count": 35,
   "id": "4dc54aa0",
   "metadata": {},
   "outputs": [],
   "source": [
    "reviews=['Accurate tracking,motivates me daily',\n",
    "        'Stylish design,great for workouts',\n",
    "        'Long battery life,very convenient',\n",
    "        'User_friendly app,insightful health data',\n",
    "        'Reliable heart rate moniter,excellent',\n",
    "        'GPS connections often drops unexpectedly',\n",
    "        'Inconsistent heart rate readings frustrating',\n",
    "        'Band uncomfortable during extended wear',\n",
    "        'Limited features compared to competitors',\n",
    "        'Sync issues with smartphone app']\n",
    "sentiment=np.array([1,1,1,1,1,0,0,0,0,0])"
   ]
  },
  {
   "cell_type": "code",
   "execution_count": 36,
   "id": "5a30028e",
   "metadata": {},
   "outputs": [
    {
     "data": {
      "text/plain": [
       "[25, 37, 39, 31, 34]"
      ]
     },
     "execution_count": 36,
     "metadata": {},
     "output_type": "execute_result"
    }
   ],
   "source": [
    "one_hot('Inconsistent heart rate readings frustrating',50) #frustrating=34 "
   ]
  },
  {
   "cell_type": "code",
   "execution_count": 37,
   "id": "e19b2db9",
   "metadata": {},
   "outputs": [
    {
     "data": {
      "text/plain": [
       "[11, 5, 23, 4, 10]"
      ]
     },
     "execution_count": 37,
     "metadata": {},
     "output_type": "execute_result"
    }
   ],
   "source": [
    "one_hot('Band uncomfortable during extended wear',50) #uncomfortable=5"
   ]
  },
  {
   "cell_type": "code",
   "execution_count": 38,
   "id": "5eec5564",
   "metadata": {},
   "outputs": [
    {
     "name": "stdout",
     "output_type": "stream",
     "text": [
      "[[25, 32, 20, 3, 6], [4, 46, 12, 40, 22], [13, 15, 42, 25, 11], [27, 35, 3, 7, 32, 45], [27, 37, 39, 11, 23], [22, 5, 45, 19, 14], [25, 37, 39, 31, 34], [11, 5, 23, 4, 10], [8, 26, 24, 15, 6], [28, 29, 23, 43, 3]]\n"
     ]
    },
    {
     "data": {
      "text/plain": [
       "[[25, 32, 20, 3, 6],\n",
       " [4, 46, 12, 40, 22],\n",
       " [13, 15, 42, 25, 11],\n",
       " [27, 35, 3, 7, 32, 45],\n",
       " [27, 37, 39, 11, 23],\n",
       " [22, 5, 45, 19, 14],\n",
       " [25, 37, 39, 31, 34],\n",
       " [11, 5, 23, 4, 10],\n",
       " [8, 26, 24, 15, 6],\n",
       " [28, 29, 23, 43, 3]]"
      ]
     },
     "execution_count": 38,
     "metadata": {},
     "output_type": "execute_result"
    }
   ],
   "source": [
    "vocab_size=50\n",
    "encoded_reviews=[one_hot(d,vocab_size) for d in reviews]\n",
    "print(encoded_reviews)\n",
    "encoded_reviews"
   ]
  },
  {
   "cell_type": "code",
   "execution_count": 39,
   "id": "2fa77aea",
   "metadata": {},
   "outputs": [
    {
     "name": "stdout",
     "output_type": "stream",
     "text": [
      "[[25 32 20  3  6  0]\n",
      " [ 4 46 12 40 22  0]\n",
      " [13 15 42 25 11  0]\n",
      " [27 35  3  7 32 45]\n",
      " [27 37 39 11 23  0]\n",
      " [22  5 45 19 14  0]\n",
      " [25 37 39 31 34  0]\n",
      " [11  5 23  4 10  0]\n",
      " [ 8 26 24 15  6  0]\n",
      " [28 29 23 43  3  0]]\n"
     ]
    }
   ],
   "source": [
    "max_length=6\n",
    "padded_reviews=pad_sequences(encoded_reviews,maxlen=max_length,padding='post')\n",
    "print(padded_reviews)"
   ]
  },
  {
   "cell_type": "code",
   "execution_count": 40,
   "id": "7b28c914",
   "metadata": {},
   "outputs": [],
   "source": [
    "embeded_vector_size=6\n",
    "\n",
    "model=Sequential()\n",
    "model.add(Embedding(vocab_size,embeded_vector_size,input_length=max_length,name='embedding'))\n",
    "model.add(Flatten())\n",
    "model.add(Dense(1,activation='sigmoid'))"
   ]
  },
  {
   "cell_type": "code",
   "execution_count": 41,
   "id": "48bea901",
   "metadata": {},
   "outputs": [],
   "source": [
    "x=padded_reviews\n",
    "y=sentiment"
   ]
  },
  {
   "cell_type": "code",
   "execution_count": 42,
   "id": "01bd6f13",
   "metadata": {},
   "outputs": [
    {
     "name": "stdout",
     "output_type": "stream",
     "text": [
      "Model: \"sequential_2\"\n",
      "_________________________________________________________________\n",
      " Layer (type)                Output Shape              Param #   \n",
      "=================================================================\n",
      " embedding (Embedding)       (None, 6, 6)              300       \n",
      "                                                                 \n",
      " flatten_2 (Flatten)         (None, 36)                0         \n",
      "                                                                 \n",
      " dense_2 (Dense)             (None, 1)                 37        \n",
      "                                                                 \n",
      "=================================================================\n",
      "Total params: 337 (1.32 KB)\n",
      "Trainable params: 337 (1.32 KB)\n",
      "Non-trainable params: 0 (0.00 Byte)\n",
      "_________________________________________________________________\n"
     ]
    }
   ],
   "source": [
    "model.compile(optimizer='adam',loss='binary_crossentropy',metrics=['accuracy'])\n",
    "model.summary()"
   ]
  },
  {
   "cell_type": "code",
   "execution_count": 43,
   "id": "11856c70",
   "metadata": {},
   "outputs": [
    {
     "data": {
      "text/plain": [
       "<keras.src.callbacks.History at 0x20b375a9e50>"
      ]
     },
     "execution_count": 43,
     "metadata": {},
     "output_type": "execute_result"
    }
   ],
   "source": [
    "model.fit(x,y,epochs=50,verbose=0)"
   ]
  },
  {
   "cell_type": "code",
   "execution_count": 44,
   "id": "728b90f1",
   "metadata": {},
   "outputs": [
    {
     "name": "stdout",
     "output_type": "stream",
     "text": [
      "1/1 [==============================] - 0s 346ms/step - loss: 0.5719 - accuracy: 1.0000\n"
     ]
    },
    {
     "data": {
      "text/plain": [
       "1.0"
      ]
     },
     "execution_count": 44,
     "metadata": {},
     "output_type": "execute_result"
    }
   ],
   "source": [
    "#evaulate the model\n",
    "loss,accuracy=model.evaluate(x,y)\n",
    "accuracy"
   ]
  },
  {
   "cell_type": "code",
   "execution_count": 45,
   "id": "c77716c7",
   "metadata": {},
   "outputs": [],
   "source": [
    "weights=model.get_layer('embedding').get_weights()[0]"
   ]
  },
  {
   "cell_type": "code",
   "execution_count": 46,
   "id": "7912e2e9",
   "metadata": {},
   "outputs": [
    {
     "data": {
      "text/plain": [
       "50"
      ]
     },
     "execution_count": 46,
     "metadata": {},
     "output_type": "execute_result"
    }
   ],
   "source": [
    "len(weights)"
   ]
  },
  {
   "cell_type": "code",
   "execution_count": 47,
   "id": "292aef99",
   "metadata": {},
   "outputs": [
    {
     "data": {
      "text/plain": [
       "array([ 0.08655718, -0.01741492,  0.07664311,  0.01919024, -0.04914737,\n",
       "       -0.09736311], dtype=float32)"
      ]
     },
     "execution_count": 47,
     "metadata": {},
     "output_type": "execute_result"
    }
   ],
   "source": [
    "weights[34] #frustrating=34 "
   ]
  },
  {
   "cell_type": "code",
   "execution_count": 48,
   "id": "536c6f38",
   "metadata": {},
   "outputs": [
    {
     "data": {
      "text/plain": [
       "array([ 0.08929397,  0.06245453,  0.0633489 ,  0.00877007, -0.03091801,\n",
       "       -0.09654111], dtype=float32)"
      ]
     },
     "execution_count": 48,
     "metadata": {},
     "output_type": "execute_result"
    }
   ],
   "source": [
    "weights[5] #uncomfortable=5"
   ]
  },
  {
   "cell_type": "markdown",
   "id": "6b249c01",
   "metadata": {},
   "source": [
    "# Solution-01"
   ]
  },
  {
   "cell_type": "code",
   "execution_count": 10,
   "id": "010db2ab",
   "metadata": {},
   "outputs": [
    {
     "data": {
      "text/html": [
       "<div>\n",
       "<style scoped>\n",
       "    .dataframe tbody tr th:only-of-type {\n",
       "        vertical-align: middle;\n",
       "    }\n",
       "\n",
       "    .dataframe tbody tr th {\n",
       "        vertical-align: top;\n",
       "    }\n",
       "\n",
       "    .dataframe thead th {\n",
       "        text-align: right;\n",
       "    }\n",
       "</style>\n",
       "<table border=\"1\" class=\"dataframe\">\n",
       "  <thead>\n",
       "    <tr style=\"text-align: right;\">\n",
       "      <th></th>\n",
       "      <th>application_id</th>\n",
       "      <th>gender</th>\n",
       "      <th>international</th>\n",
       "      <th>gpa</th>\n",
       "      <th>major</th>\n",
       "      <th>race</th>\n",
       "      <th>gmat</th>\n",
       "      <th>work_exp</th>\n",
       "      <th>work_industry</th>\n",
       "      <th>admission</th>\n",
       "    </tr>\n",
       "  </thead>\n",
       "  <tbody>\n",
       "    <tr>\n",
       "      <th>0</th>\n",
       "      <td>1</td>\n",
       "      <td>Female</td>\n",
       "      <td>False</td>\n",
       "      <td>3.30</td>\n",
       "      <td>Business</td>\n",
       "      <td>Asian</td>\n",
       "      <td>620</td>\n",
       "      <td>3</td>\n",
       "      <td>Financial Services</td>\n",
       "      <td>Admit</td>\n",
       "    </tr>\n",
       "    <tr>\n",
       "      <th>1</th>\n",
       "      <td>2</td>\n",
       "      <td>Male</td>\n",
       "      <td>False</td>\n",
       "      <td>3.28</td>\n",
       "      <td>Humanities</td>\n",
       "      <td>Black</td>\n",
       "      <td>680</td>\n",
       "      <td>5</td>\n",
       "      <td>Investment Management</td>\n",
       "      <td>NaN</td>\n",
       "    </tr>\n",
       "    <tr>\n",
       "      <th>2</th>\n",
       "      <td>3</td>\n",
       "      <td>Female</td>\n",
       "      <td>True</td>\n",
       "      <td>3.30</td>\n",
       "      <td>Business</td>\n",
       "      <td>NaN</td>\n",
       "      <td>710</td>\n",
       "      <td>5</td>\n",
       "      <td>Technology</td>\n",
       "      <td>Admit</td>\n",
       "    </tr>\n",
       "    <tr>\n",
       "      <th>3</th>\n",
       "      <td>4</td>\n",
       "      <td>Male</td>\n",
       "      <td>False</td>\n",
       "      <td>3.47</td>\n",
       "      <td>STEM</td>\n",
       "      <td>Black</td>\n",
       "      <td>690</td>\n",
       "      <td>6</td>\n",
       "      <td>Technology</td>\n",
       "      <td>NaN</td>\n",
       "    </tr>\n",
       "  </tbody>\n",
       "</table>\n",
       "</div>"
      ],
      "text/plain": [
       "   application_id  gender  international   gpa       major   race  gmat  \\\n",
       "0               1  Female          False  3.30    Business  Asian   620   \n",
       "1               2    Male          False  3.28  Humanities  Black   680   \n",
       "2               3  Female           True  3.30    Business    NaN   710   \n",
       "3               4    Male          False  3.47        STEM  Black   690   \n",
       "\n",
       "   work_exp          work_industry admission  \n",
       "0         3     Financial Services     Admit  \n",
       "1         5  Investment Management       NaN  \n",
       "2         5             Technology     Admit  \n",
       "3         6             Technology       NaN  "
      ]
     },
     "execution_count": 10,
     "metadata": {},
     "output_type": "execute_result"
    }
   ],
   "source": [
    "import pandas as pd\n",
    "df=pd.read_csv(r\"C:\\Users\\Admin\\Downloads\\MBA (2).csv\")\n",
    "df.head(4)"
   ]
  },
  {
   "cell_type": "code",
   "execution_count": 11,
   "id": "6b48e31d",
   "metadata": {},
   "outputs": [],
   "source": [
    "import pandas as pd\n",
    "from sklearn.model_selection import train_test_split\n",
    "from sklearn.preprocessing import LabelEncoder, StandardScaler\n",
    "from keras.models import Sequential\n",
    "from keras.layers import Dense"
   ]
  },
  {
   "cell_type": "code",
   "execution_count": 12,
   "id": "16007ad9",
   "metadata": {},
   "outputs": [
    {
     "name": "stdout",
     "output_type": "stream",
     "text": [
      "      application_id  gender  international   gpa       major      race  gmat  \\\n",
      "0                  1  Female          False  3.30    Business     Asian   620   \n",
      "1                  2    Male          False  3.28  Humanities     Black   680   \n",
      "2                  3  Female           True  3.30    Business       NaN   710   \n",
      "3                  4    Male          False  3.47        STEM     Black   690   \n",
      "4                  5    Male          False  3.35        STEM  Hispanic   590   \n",
      "...              ...     ...            ...   ...         ...       ...   ...   \n",
      "6189            6190    Male          False  3.49    Business     White   640   \n",
      "6190            6191    Male          False  3.18        STEM     Black   670   \n",
      "6191            6192  Female           True  3.22    Business       NaN   680   \n",
      "6192            6193    Male           True  3.36    Business       NaN   590   \n",
      "6193            6194    Male          False  3.23        STEM  Hispanic   650   \n",
      "\n",
      "      work_exp          work_industry admission  \n",
      "0            3     Financial Services     Admit  \n",
      "1            5  Investment Management      Deny  \n",
      "2            5             Technology     Admit  \n",
      "3            6             Technology      Deny  \n",
      "4            5             Consulting      Deny  \n",
      "...        ...                    ...       ...  \n",
      "6189         5                  Other      Deny  \n",
      "6190         4             Consulting      Deny  \n",
      "6191         5            Health Care     Admit  \n",
      "6192         5                  Other      Deny  \n",
      "6193         4             Consulting      Deny  \n",
      "\n",
      "[6094 rows x 10 columns]\n"
     ]
    }
   ],
   "source": [
    "# Step 1: Convert NaN to 'Deny'\n",
    "df['admission'].fillna('Deny', inplace=True)\n",
    "\n",
    "# Step 2: Remove rows with 'Waitlist'\n",
    "df = df[df['admission'] != 'Waitlist']\n",
    "\n",
    "print(df)"
   ]
  },
  {
   "cell_type": "code",
   "execution_count": 13,
   "id": "13326172",
   "metadata": {},
   "outputs": [
    {
     "name": "stdout",
     "output_type": "stream",
     "text": [
      "      application_id  gender  international   gpa  major  race  gmat  \\\n",
      "0                  1       0          False  3.30      0     0   620   \n",
      "1                  2       1          False  3.28      1     1   680   \n",
      "2                  3       0           True  3.30      0     5   710   \n",
      "3                  4       1          False  3.47      2     1   690   \n",
      "4                  5       1          False  3.35      2     2   590   \n",
      "...              ...     ...            ...   ...    ...   ...   ...   \n",
      "6189            6190       1          False  3.49      0     4   640   \n",
      "6190            6191       1          False  3.18      2     1   670   \n",
      "6191            6192       0           True  3.22      0     5   680   \n",
      "6192            6193       1           True  3.36      0     5   590   \n",
      "6193            6194       1          False  3.23      2     2   650   \n",
      "\n",
      "      work_exp  work_industry  admission  \n",
      "0            3              3          0  \n",
      "1            5              6          1  \n",
      "2            5             13          0  \n",
      "3            6             13          1  \n",
      "4            5              1          1  \n",
      "...        ...            ...        ...  \n",
      "6189         5              9          1  \n",
      "6190         4              1          1  \n",
      "6191         5              4          0  \n",
      "6192         5              9          1  \n",
      "6193         4              1          1  \n",
      "\n",
      "[6094 rows x 10 columns]\n"
     ]
    }
   ],
   "source": [
    "from sklearn.preprocessing import LabelEncoder\n",
    "\n",
    "# Encode categorical columns\n",
    "label_cols = ['gender', 'major', 'race', 'work_industry', 'admission']\n",
    "label_encoders = {}\n",
    "\n",
    "for col in label_cols:\n",
    "    le = LabelEncoder()\n",
    "    df[col] = le.fit_transform(df[col].astype(str))  # Convert to string before encoding\n",
    "    label_encoders[col] = le\n",
    "\n",
    "print(df)\n"
   ]
  },
  {
   "cell_type": "code",
   "execution_count": 14,
   "id": "31e00a00",
   "metadata": {},
   "outputs": [],
   "source": [
    "# Separate features and target\n",
    "X = df.drop(columns=['admission', 'application_id'])\n",
    "y = df['admission']\n"
   ]
  },
  {
   "cell_type": "code",
   "execution_count": 15,
   "id": "f2c882c6",
   "metadata": {},
   "outputs": [],
   "source": [
    "from sklearn.preprocessing import StandardScaler\n",
    "\n",
    "scaler = StandardScaler()\n",
    "X_scaled = scaler.fit_transform(X)\n"
   ]
  },
  {
   "cell_type": "code",
   "execution_count": 16,
   "id": "4f9e12ee",
   "metadata": {
    "collapsed": true
   },
   "outputs": [
    {
     "name": "stderr",
     "output_type": "stream",
     "text": [
      "C:\\Users\\Admin\\anaconda3\\Lib\\site-packages\\keras\\src\\layers\\core\\dense.py:87: UserWarning: Do not pass an `input_shape`/`input_dim` argument to a layer. When using Sequential models, prefer using an `Input(shape)` object as the first layer in the model instead.\n",
      "  super().__init__(activity_regularizer=activity_regularizer, **kwargs)\n"
     ]
    },
    {
     "name": "stdout",
     "output_type": "stream",
     "text": [
      "Epoch 1/50\n",
      "\u001b[1m610/610\u001b[0m \u001b[32m━━━━━━━━━━━━━━━━━━━━\u001b[0m\u001b[37m\u001b[0m \u001b[1m5s\u001b[0m 3ms/step - accuracy: 0.8386 - loss: 0.4078\n",
      "Epoch 2/50\n",
      "\u001b[1m610/610\u001b[0m \u001b[32m━━━━━━━━━━━━━━━━━━━━\u001b[0m\u001b[37m\u001b[0m \u001b[1m2s\u001b[0m 3ms/step - accuracy: 0.8536 - loss: 0.3271\n",
      "Epoch 3/50\n",
      "\u001b[1m610/610\u001b[0m \u001b[32m━━━━━━━━━━━━━━━━━━━━\u001b[0m\u001b[37m\u001b[0m \u001b[1m2s\u001b[0m 3ms/step - accuracy: 0.8494 - loss: 0.3277\n",
      "Epoch 4/50\n",
      "\u001b[1m610/610\u001b[0m \u001b[32m━━━━━━━━━━━━━━━━━━━━\u001b[0m\u001b[37m\u001b[0m \u001b[1m2s\u001b[0m 3ms/step - accuracy: 0.8532 - loss: 0.3097\n",
      "Epoch 5/50\n",
      "\u001b[1m610/610\u001b[0m \u001b[32m━━━━━━━━━━━━━━━━━━━━\u001b[0m\u001b[37m\u001b[0m \u001b[1m2s\u001b[0m 3ms/step - accuracy: 0.8537 - loss: 0.3129\n",
      "Epoch 6/50\n",
      "\u001b[1m610/610\u001b[0m \u001b[32m━━━━━━━━━━━━━━━━━━━━\u001b[0m\u001b[37m\u001b[0m \u001b[1m2s\u001b[0m 3ms/step - accuracy: 0.8579 - loss: 0.3062\n",
      "Epoch 7/50\n",
      "\u001b[1m610/610\u001b[0m \u001b[32m━━━━━━━━━━━━━━━━━━━━\u001b[0m\u001b[37m\u001b[0m \u001b[1m2s\u001b[0m 3ms/step - accuracy: 0.8601 - loss: 0.3035\n",
      "Epoch 8/50\n",
      "\u001b[1m610/610\u001b[0m \u001b[32m━━━━━━━━━━━━━━━━━━━━\u001b[0m\u001b[37m\u001b[0m \u001b[1m2s\u001b[0m 3ms/step - accuracy: 0.8568 - loss: 0.3000\n",
      "Epoch 9/50\n",
      "\u001b[1m610/610\u001b[0m \u001b[32m━━━━━━━━━━━━━━━━━━━━\u001b[0m\u001b[37m\u001b[0m \u001b[1m2s\u001b[0m 3ms/step - accuracy: 0.8457 - loss: 0.3175\n",
      "Epoch 10/50\n",
      "\u001b[1m610/610\u001b[0m \u001b[32m━━━━━━━━━━━━━━━━━━━━\u001b[0m\u001b[37m\u001b[0m \u001b[1m2s\u001b[0m 3ms/step - accuracy: 0.8452 - loss: 0.3137\n",
      "Epoch 11/50\n",
      "\u001b[1m610/610\u001b[0m \u001b[32m━━━━━━━━━━━━━━━━━━━━\u001b[0m\u001b[37m\u001b[0m \u001b[1m2s\u001b[0m 3ms/step - accuracy: 0.8525 - loss: 0.3046\n",
      "Epoch 12/50\n",
      "\u001b[1m610/610\u001b[0m \u001b[32m━━━━━━━━━━━━━━━━━━━━\u001b[0m\u001b[37m\u001b[0m \u001b[1m2s\u001b[0m 3ms/step - accuracy: 0.8621 - loss: 0.2925\n",
      "Epoch 13/50\n",
      "\u001b[1m610/610\u001b[0m \u001b[32m━━━━━━━━━━━━━━━━━━━━\u001b[0m\u001b[37m\u001b[0m \u001b[1m2s\u001b[0m 3ms/step - accuracy: 0.8627 - loss: 0.2861\n",
      "Epoch 14/50\n",
      "\u001b[1m610/610\u001b[0m \u001b[32m━━━━━━━━━━━━━━━━━━━━\u001b[0m\u001b[37m\u001b[0m \u001b[1m2s\u001b[0m 3ms/step - accuracy: 0.8578 - loss: 0.2959\n",
      "Epoch 15/50\n",
      "\u001b[1m610/610\u001b[0m \u001b[32m━━━━━━━━━━━━━━━━━━━━\u001b[0m\u001b[37m\u001b[0m \u001b[1m2s\u001b[0m 3ms/step - accuracy: 0.8585 - loss: 0.2924\n",
      "Epoch 16/50\n",
      "\u001b[1m610/610\u001b[0m \u001b[32m━━━━━━━━━━━━━━━━━━━━\u001b[0m\u001b[37m\u001b[0m \u001b[1m2s\u001b[0m 3ms/step - accuracy: 0.8570 - loss: 0.2887\n",
      "Epoch 17/50\n",
      "\u001b[1m610/610\u001b[0m \u001b[32m━━━━━━━━━━━━━━━━━━━━\u001b[0m\u001b[37m\u001b[0m \u001b[1m2s\u001b[0m 3ms/step - accuracy: 0.8616 - loss: 0.2950\n",
      "Epoch 18/50\n",
      "\u001b[1m610/610\u001b[0m \u001b[32m━━━━━━━━━━━━━━━━━━━━\u001b[0m\u001b[37m\u001b[0m \u001b[1m2s\u001b[0m 3ms/step - accuracy: 0.8639 - loss: 0.2866\n",
      "Epoch 19/50\n",
      "\u001b[1m610/610\u001b[0m \u001b[32m━━━━━━━━━━━━━━━━━━━━\u001b[0m\u001b[37m\u001b[0m \u001b[1m2s\u001b[0m 3ms/step - accuracy: 0.8665 - loss: 0.2793\n",
      "Epoch 20/50\n",
      "\u001b[1m610/610\u001b[0m \u001b[32m━━━━━━━━━━━━━━━━━━━━\u001b[0m\u001b[37m\u001b[0m \u001b[1m2s\u001b[0m 3ms/step - accuracy: 0.8552 - loss: 0.2895\n",
      "Epoch 21/50\n",
      "\u001b[1m610/610\u001b[0m \u001b[32m━━━━━━━━━━━━━━━━━━━━\u001b[0m\u001b[37m\u001b[0m \u001b[1m2s\u001b[0m 3ms/step - accuracy: 0.8670 - loss: 0.2735\n",
      "Epoch 22/50\n",
      "\u001b[1m610/610\u001b[0m \u001b[32m━━━━━━━━━━━━━━━━━━━━\u001b[0m\u001b[37m\u001b[0m \u001b[1m2s\u001b[0m 3ms/step - accuracy: 0.8642 - loss: 0.2833\n",
      "Epoch 23/50\n",
      "\u001b[1m610/610\u001b[0m \u001b[32m━━━━━━━━━━━━━━━━━━━━\u001b[0m\u001b[37m\u001b[0m \u001b[1m2s\u001b[0m 3ms/step - accuracy: 0.8588 - loss: 0.2808\n",
      "Epoch 24/50\n",
      "\u001b[1m610/610\u001b[0m \u001b[32m━━━━━━━━━━━━━━━━━━━━\u001b[0m\u001b[37m\u001b[0m \u001b[1m2s\u001b[0m 3ms/step - accuracy: 0.8611 - loss: 0.2819\n",
      "Epoch 25/50\n",
      "\u001b[1m610/610\u001b[0m \u001b[32m━━━━━━━━━━━━━━━━━━━━\u001b[0m\u001b[37m\u001b[0m \u001b[1m2s\u001b[0m 3ms/step - accuracy: 0.8601 - loss: 0.2820\n",
      "Epoch 26/50\n",
      "\u001b[1m610/610\u001b[0m \u001b[32m━━━━━━━━━━━━━━━━━━━━\u001b[0m\u001b[37m\u001b[0m \u001b[1m2s\u001b[0m 3ms/step - accuracy: 0.8664 - loss: 0.2787\n",
      "Epoch 27/50\n",
      "\u001b[1m610/610\u001b[0m \u001b[32m━━━━━━━━━━━━━━━━━━━━\u001b[0m\u001b[37m\u001b[0m \u001b[1m2s\u001b[0m 3ms/step - accuracy: 0.8673 - loss: 0.2686\n",
      "Epoch 28/50\n",
      "\u001b[1m610/610\u001b[0m \u001b[32m━━━━━━━━━━━━━━━━━━━━\u001b[0m\u001b[37m\u001b[0m \u001b[1m2s\u001b[0m 3ms/step - accuracy: 0.8681 - loss: 0.2704\n",
      "Epoch 29/50\n",
      "\u001b[1m610/610\u001b[0m \u001b[32m━━━━━━━━━━━━━━━━━━━━\u001b[0m\u001b[37m\u001b[0m \u001b[1m2s\u001b[0m 3ms/step - accuracy: 0.8588 - loss: 0.2795\n",
      "Epoch 30/50\n",
      "\u001b[1m610/610\u001b[0m \u001b[32m━━━━━━━━━━━━━━━━━━━━\u001b[0m\u001b[37m\u001b[0m \u001b[1m2s\u001b[0m 3ms/step - accuracy: 0.8600 - loss: 0.2714\n",
      "Epoch 31/50\n",
      "\u001b[1m610/610\u001b[0m \u001b[32m━━━━━━━━━━━━━━━━━━━━\u001b[0m\u001b[37m\u001b[0m \u001b[1m2s\u001b[0m 3ms/step - accuracy: 0.8632 - loss: 0.2778\n",
      "Epoch 32/50\n",
      "\u001b[1m610/610\u001b[0m \u001b[32m━━━━━━━━━━━━━━━━━━━━\u001b[0m\u001b[37m\u001b[0m \u001b[1m2s\u001b[0m 3ms/step - accuracy: 0.8597 - loss: 0.2798\n",
      "Epoch 33/50\n",
      "\u001b[1m610/610\u001b[0m \u001b[32m━━━━━━━━━━━━━━━━━━━━\u001b[0m\u001b[37m\u001b[0m \u001b[1m2s\u001b[0m 3ms/step - accuracy: 0.8649 - loss: 0.2708\n",
      "Epoch 34/50\n",
      "\u001b[1m610/610\u001b[0m \u001b[32m━━━━━━━━━━━━━━━━━━━━\u001b[0m\u001b[37m\u001b[0m \u001b[1m2s\u001b[0m 3ms/step - accuracy: 0.8669 - loss: 0.2673\n",
      "Epoch 35/50\n",
      "\u001b[1m610/610\u001b[0m \u001b[32m━━━━━━━━━━━━━━━━━━━━\u001b[0m\u001b[37m\u001b[0m \u001b[1m2s\u001b[0m 3ms/step - accuracy: 0.8691 - loss: 0.2681\n",
      "Epoch 36/50\n",
      "\u001b[1m610/610\u001b[0m \u001b[32m━━━━━━━━━━━━━━━━━━━━\u001b[0m\u001b[37m\u001b[0m \u001b[1m2s\u001b[0m 3ms/step - accuracy: 0.8617 - loss: 0.2785\n",
      "Epoch 37/50\n",
      "\u001b[1m610/610\u001b[0m \u001b[32m━━━━━━━━━━━━━━━━━━━━\u001b[0m\u001b[37m\u001b[0m \u001b[1m2s\u001b[0m 3ms/step - accuracy: 0.8705 - loss: 0.2659\n",
      "Epoch 38/50\n",
      "\u001b[1m610/610\u001b[0m \u001b[32m━━━━━━━━━━━━━━━━━━━━\u001b[0m\u001b[37m\u001b[0m \u001b[1m2s\u001b[0m 3ms/step - accuracy: 0.8656 - loss: 0.2611\n",
      "Epoch 39/50\n",
      "\u001b[1m610/610\u001b[0m \u001b[32m━━━━━━━━━━━━━━━━━━━━\u001b[0m\u001b[37m\u001b[0m \u001b[1m2s\u001b[0m 3ms/step - accuracy: 0.8779 - loss: 0.2566\n",
      "Epoch 40/50\n",
      "\u001b[1m610/610\u001b[0m \u001b[32m━━━━━━━━━━━━━━━━━━━━\u001b[0m\u001b[37m\u001b[0m \u001b[1m2s\u001b[0m 3ms/step - accuracy: 0.8748 - loss: 0.2598\n",
      "Epoch 41/50\n",
      "\u001b[1m610/610\u001b[0m \u001b[32m━━━━━━━━━━━━━━━━━━━━\u001b[0m\u001b[37m\u001b[0m \u001b[1m2s\u001b[0m 3ms/step - accuracy: 0.8762 - loss: 0.2522\n",
      "Epoch 42/50\n",
      "\u001b[1m610/610\u001b[0m \u001b[32m━━━━━━━━━━━━━━━━━━━━\u001b[0m\u001b[37m\u001b[0m \u001b[1m2s\u001b[0m 3ms/step - accuracy: 0.8687 - loss: 0.2608\n",
      "Epoch 43/50\n",
      "\u001b[1m610/610\u001b[0m \u001b[32m━━━━━━━━━━━━━━━━━━━━\u001b[0m\u001b[37m\u001b[0m \u001b[1m2s\u001b[0m 3ms/step - accuracy: 0.8799 - loss: 0.2495\n",
      "Epoch 44/50\n",
      "\u001b[1m610/610\u001b[0m \u001b[32m━━━━━━━━━━━━━━━━━━━━\u001b[0m\u001b[37m\u001b[0m \u001b[1m2s\u001b[0m 3ms/step - accuracy: 0.8781 - loss: 0.2560\n",
      "Epoch 45/50\n",
      "\u001b[1m610/610\u001b[0m \u001b[32m━━━━━━━━━━━━━━━━━━━━\u001b[0m\u001b[37m\u001b[0m \u001b[1m2s\u001b[0m 3ms/step - accuracy: 0.8816 - loss: 0.2501\n",
      "Epoch 46/50\n",
      "\u001b[1m610/610\u001b[0m \u001b[32m━━━━━━━━━━━━━━━━━━━━\u001b[0m\u001b[37m\u001b[0m \u001b[1m2s\u001b[0m 3ms/step - accuracy: 0.8805 - loss: 0.2487\n",
      "Epoch 47/50\n",
      "\u001b[1m610/610\u001b[0m \u001b[32m━━━━━━━━━━━━━━━━━━━━\u001b[0m\u001b[37m\u001b[0m \u001b[1m2s\u001b[0m 3ms/step - accuracy: 0.8756 - loss: 0.2545\n",
      "Epoch 48/50\n",
      "\u001b[1m610/610\u001b[0m \u001b[32m━━━━━━━━━━━━━━━━━━━━\u001b[0m\u001b[37m\u001b[0m \u001b[1m2s\u001b[0m 3ms/step - accuracy: 0.8770 - loss: 0.2517\n",
      "Epoch 49/50\n",
      "\u001b[1m610/610\u001b[0m \u001b[32m━━━━━━━━━━━━━━━━━━━━\u001b[0m\u001b[37m\u001b[0m \u001b[1m2s\u001b[0m 3ms/step - accuracy: 0.8738 - loss: 0.2532\n",
      "Epoch 50/50\n",
      "\u001b[1m610/610\u001b[0m \u001b[32m━━━━━━━━━━━━━━━━━━━━\u001b[0m\u001b[37m\u001b[0m \u001b[1m2s\u001b[0m 3ms/step - accuracy: 0.8702 - loss: 0.2647\n"
     ]
    },
    {
     "data": {
      "text/plain": [
       "<keras.src.callbacks.history.History at 0x1ee6db77dd0>"
      ]
     },
     "execution_count": 16,
     "metadata": {},
     "output_type": "execute_result"
    }
   ],
   "source": [
    "from keras.models import Sequential\n",
    "from keras.layers import Dense\n",
    "\n",
    "# Build the ANN\n",
    "model = Sequential()\n",
    "model.add(Dense(units=64, activation='relu', input_dim=X_scaled.shape[1]))\n",
    "model.add(Dense(units=32, activation='relu'))\n",
    "model.add(Dense(units=1, activation='sigmoid'))  # Binary classification: Admit or Deny\n",
    "\n",
    "# Compile the model\n",
    "model.compile(optimizer='adam', loss='binary_crossentropy', metrics=['accuracy'])\n",
    "\n",
    "# Train the model\n",
    "model.fit(X_scaled, y, epochs=50, batch_size=10, verbose=1)\n"
   ]
  },
  {
   "cell_type": "code",
   "execution_count": 18,
   "id": "ee58e0a7",
   "metadata": {},
   "outputs": [],
   "source": [
    "from sklearn.model_selection import train_test_split\n",
    "\n",
    "# Split the data into training and test sets\n",
    "X_train, X_test, y_train, y_test = train_test_split(X_scaled, y, test_size=0.2, random_state=42)\n"
   ]
  },
  {
   "cell_type": "code",
   "execution_count": 19,
   "id": "83939a88",
   "metadata": {
    "collapsed": true
   },
   "outputs": [
    {
     "name": "stdout",
     "output_type": "stream",
     "text": [
      "Epoch 1/50\n",
      "\u001b[1m488/488\u001b[0m \u001b[32m━━━━━━━━━━━━━━━━━━━━\u001b[0m\u001b[37m\u001b[0m \u001b[1m2s\u001b[0m 3ms/step - accuracy: 0.8755 - loss: 0.2570\n",
      "Epoch 2/50\n",
      "\u001b[1m488/488\u001b[0m \u001b[32m━━━━━━━━━━━━━━━━━━━━\u001b[0m\u001b[37m\u001b[0m \u001b[1m2s\u001b[0m 3ms/step - accuracy: 0.8811 - loss: 0.2501\n",
      "Epoch 3/50\n",
      "\u001b[1m488/488\u001b[0m \u001b[32m━━━━━━━━━━━━━━━━━━━━\u001b[0m\u001b[37m\u001b[0m \u001b[1m2s\u001b[0m 3ms/step - accuracy: 0.8817 - loss: 0.2563\n",
      "Epoch 4/50\n",
      "\u001b[1m488/488\u001b[0m \u001b[32m━━━━━━━━━━━━━━━━━━━━\u001b[0m\u001b[37m\u001b[0m \u001b[1m2s\u001b[0m 3ms/step - accuracy: 0.8807 - loss: 0.2402\n",
      "Epoch 5/50\n",
      "\u001b[1m488/488\u001b[0m \u001b[32m━━━━━━━━━━━━━━━━━━━━\u001b[0m\u001b[37m\u001b[0m \u001b[1m2s\u001b[0m 3ms/step - accuracy: 0.8896 - loss: 0.2354\n",
      "Epoch 6/50\n",
      "\u001b[1m488/488\u001b[0m \u001b[32m━━━━━━━━━━━━━━━━━━━━\u001b[0m\u001b[37m\u001b[0m \u001b[1m2s\u001b[0m 3ms/step - accuracy: 0.8768 - loss: 0.2508\n",
      "Epoch 7/50\n",
      "\u001b[1m488/488\u001b[0m \u001b[32m━━━━━━━━━━━━━━━━━━━━\u001b[0m\u001b[37m\u001b[0m \u001b[1m2s\u001b[0m 3ms/step - accuracy: 0.8913 - loss: 0.2350\n",
      "Epoch 8/50\n",
      "\u001b[1m488/488\u001b[0m \u001b[32m━━━━━━━━━━━━━━━━━━━━\u001b[0m\u001b[37m\u001b[0m \u001b[1m2s\u001b[0m 3ms/step - accuracy: 0.8793 - loss: 0.2473\n",
      "Epoch 9/50\n",
      "\u001b[1m488/488\u001b[0m \u001b[32m━━━━━━━━━━━━━━━━━━━━\u001b[0m\u001b[37m\u001b[0m \u001b[1m2s\u001b[0m 3ms/step - accuracy: 0.8931 - loss: 0.2347\n",
      "Epoch 10/50\n",
      "\u001b[1m488/488\u001b[0m \u001b[32m━━━━━━━━━━━━━━━━━━━━\u001b[0m\u001b[37m\u001b[0m \u001b[1m2s\u001b[0m 3ms/step - accuracy: 0.8820 - loss: 0.2400\n",
      "Epoch 11/50\n",
      "\u001b[1m488/488\u001b[0m \u001b[32m━━━━━━━━━━━━━━━━━━━━\u001b[0m\u001b[37m\u001b[0m \u001b[1m2s\u001b[0m 3ms/step - accuracy: 0.8825 - loss: 0.2385\n",
      "Epoch 12/50\n",
      "\u001b[1m488/488\u001b[0m \u001b[32m━━━━━━━━━━━━━━━━━━━━\u001b[0m\u001b[37m\u001b[0m \u001b[1m2s\u001b[0m 3ms/step - accuracy: 0.8842 - loss: 0.2406\n",
      "Epoch 13/50\n",
      "\u001b[1m488/488\u001b[0m \u001b[32m━━━━━━━━━━━━━━━━━━━━\u001b[0m\u001b[37m\u001b[0m \u001b[1m2s\u001b[0m 3ms/step - accuracy: 0.8922 - loss: 0.2282\n",
      "Epoch 14/50\n",
      "\u001b[1m488/488\u001b[0m \u001b[32m━━━━━━━━━━━━━━━━━━━━\u001b[0m\u001b[37m\u001b[0m \u001b[1m2s\u001b[0m 3ms/step - accuracy: 0.8890 - loss: 0.2387\n",
      "Epoch 15/50\n",
      "\u001b[1m488/488\u001b[0m \u001b[32m━━━━━━━━━━━━━━━━━━━━\u001b[0m\u001b[37m\u001b[0m \u001b[1m2s\u001b[0m 3ms/step - accuracy: 0.8886 - loss: 0.2385\n",
      "Epoch 16/50\n",
      "\u001b[1m488/488\u001b[0m \u001b[32m━━━━━━━━━━━━━━━━━━━━\u001b[0m\u001b[37m\u001b[0m \u001b[1m2s\u001b[0m 3ms/step - accuracy: 0.8889 - loss: 0.2346\n",
      "Epoch 17/50\n",
      "\u001b[1m488/488\u001b[0m \u001b[32m━━━━━━━━━━━━━━━━━━━━\u001b[0m\u001b[37m\u001b[0m \u001b[1m2s\u001b[0m 3ms/step - accuracy: 0.8974 - loss: 0.2274\n",
      "Epoch 18/50\n",
      "\u001b[1m488/488\u001b[0m \u001b[32m━━━━━━━━━━━━━━━━━━━━\u001b[0m\u001b[37m\u001b[0m \u001b[1m2s\u001b[0m 3ms/step - accuracy: 0.8931 - loss: 0.2307\n",
      "Epoch 19/50\n",
      "\u001b[1m488/488\u001b[0m \u001b[32m━━━━━━━━━━━━━━━━━━━━\u001b[0m\u001b[37m\u001b[0m \u001b[1m2s\u001b[0m 3ms/step - accuracy: 0.8956 - loss: 0.2239\n",
      "Epoch 20/50\n",
      "\u001b[1m488/488\u001b[0m \u001b[32m━━━━━━━━━━━━━━━━━━━━\u001b[0m\u001b[37m\u001b[0m \u001b[1m2s\u001b[0m 3ms/step - accuracy: 0.8952 - loss: 0.2256\n",
      "Epoch 21/50\n",
      "\u001b[1m488/488\u001b[0m \u001b[32m━━━━━━━━━━━━━━━━━━━━\u001b[0m\u001b[37m\u001b[0m \u001b[1m2s\u001b[0m 3ms/step - accuracy: 0.8916 - loss: 0.2288\n",
      "Epoch 22/50\n",
      "\u001b[1m488/488\u001b[0m \u001b[32m━━━━━━━━━━━━━━━━━━━━\u001b[0m\u001b[37m\u001b[0m \u001b[1m2s\u001b[0m 3ms/step - accuracy: 0.8958 - loss: 0.2263\n",
      "Epoch 23/50\n",
      "\u001b[1m488/488\u001b[0m \u001b[32m━━━━━━━━━━━━━━━━━━━━\u001b[0m\u001b[37m\u001b[0m \u001b[1m2s\u001b[0m 3ms/step - accuracy: 0.8780 - loss: 0.2438\n",
      "Epoch 24/50\n",
      "\u001b[1m488/488\u001b[0m \u001b[32m━━━━━━━━━━━━━━━━━━━━\u001b[0m\u001b[37m\u001b[0m \u001b[1m2s\u001b[0m 3ms/step - accuracy: 0.8981 - loss: 0.2242\n",
      "Epoch 25/50\n",
      "\u001b[1m488/488\u001b[0m \u001b[32m━━━━━━━━━━━━━━━━━━━━\u001b[0m\u001b[37m\u001b[0m \u001b[1m2s\u001b[0m 3ms/step - accuracy: 0.8965 - loss: 0.2258\n",
      "Epoch 26/50\n",
      "\u001b[1m488/488\u001b[0m \u001b[32m━━━━━━━━━━━━━━━━━━━━\u001b[0m\u001b[37m\u001b[0m \u001b[1m2s\u001b[0m 3ms/step - accuracy: 0.8991 - loss: 0.2166\n",
      "Epoch 27/50\n",
      "\u001b[1m488/488\u001b[0m \u001b[32m━━━━━━━━━━━━━━━━━━━━\u001b[0m\u001b[37m\u001b[0m \u001b[1m2s\u001b[0m 3ms/step - accuracy: 0.8960 - loss: 0.2226\n",
      "Epoch 28/50\n",
      "\u001b[1m488/488\u001b[0m \u001b[32m━━━━━━━━━━━━━━━━━━━━\u001b[0m\u001b[37m\u001b[0m \u001b[1m2s\u001b[0m 3ms/step - accuracy: 0.8950 - loss: 0.2243\n",
      "Epoch 29/50\n",
      "\u001b[1m488/488\u001b[0m \u001b[32m━━━━━━━━━━━━━━━━━━━━\u001b[0m\u001b[37m\u001b[0m \u001b[1m2s\u001b[0m 3ms/step - accuracy: 0.8987 - loss: 0.2138\n",
      "Epoch 30/50\n",
      "\u001b[1m488/488\u001b[0m \u001b[32m━━━━━━━━━━━━━━━━━━━━\u001b[0m\u001b[37m\u001b[0m \u001b[1m2s\u001b[0m 3ms/step - accuracy: 0.9013 - loss: 0.2223\n",
      "Epoch 31/50\n",
      "\u001b[1m488/488\u001b[0m \u001b[32m━━━━━━━━━━━━━━━━━━━━\u001b[0m\u001b[37m\u001b[0m \u001b[1m2s\u001b[0m 3ms/step - accuracy: 0.8979 - loss: 0.2204\n",
      "Epoch 32/50\n",
      "\u001b[1m488/488\u001b[0m \u001b[32m━━━━━━━━━━━━━━━━━━━━\u001b[0m\u001b[37m\u001b[0m \u001b[1m2s\u001b[0m 3ms/step - accuracy: 0.8872 - loss: 0.2342\n",
      "Epoch 33/50\n",
      "\u001b[1m488/488\u001b[0m \u001b[32m━━━━━━━━━━━━━━━━━━━━\u001b[0m\u001b[37m\u001b[0m \u001b[1m2s\u001b[0m 3ms/step - accuracy: 0.8953 - loss: 0.2210\n",
      "Epoch 34/50\n",
      "\u001b[1m488/488\u001b[0m \u001b[32m━━━━━━━━━━━━━━━━━━━━\u001b[0m\u001b[37m\u001b[0m \u001b[1m2s\u001b[0m 3ms/step - accuracy: 0.8975 - loss: 0.2203\n",
      "Epoch 35/50\n",
      "\u001b[1m488/488\u001b[0m \u001b[32m━━━━━━━━━━━━━━━━━━━━\u001b[0m\u001b[37m\u001b[0m \u001b[1m2s\u001b[0m 3ms/step - accuracy: 0.8894 - loss: 0.2223\n",
      "Epoch 36/50\n",
      "\u001b[1m488/488\u001b[0m \u001b[32m━━━━━━━━━━━━━━━━━━━━\u001b[0m\u001b[37m\u001b[0m \u001b[1m2s\u001b[0m 3ms/step - accuracy: 0.9006 - loss: 0.2085\n",
      "Epoch 37/50\n",
      "\u001b[1m488/488\u001b[0m \u001b[32m━━━━━━━━━━━━━━━━━━━━\u001b[0m\u001b[37m\u001b[0m \u001b[1m2s\u001b[0m 3ms/step - accuracy: 0.8956 - loss: 0.2194\n",
      "Epoch 38/50\n",
      "\u001b[1m488/488\u001b[0m \u001b[32m━━━━━━━━━━━━━━━━━━━━\u001b[0m\u001b[37m\u001b[0m \u001b[1m2s\u001b[0m 3ms/step - accuracy: 0.8973 - loss: 0.2153\n",
      "Epoch 39/50\n",
      "\u001b[1m488/488\u001b[0m \u001b[32m━━━━━━━━━━━━━━━━━━━━\u001b[0m\u001b[37m\u001b[0m \u001b[1m2s\u001b[0m 3ms/step - accuracy: 0.9019 - loss: 0.2068\n",
      "Epoch 40/50\n",
      "\u001b[1m488/488\u001b[0m \u001b[32m━━━━━━━━━━━━━━━━━━━━\u001b[0m\u001b[37m\u001b[0m \u001b[1m2s\u001b[0m 3ms/step - accuracy: 0.9026 - loss: 0.2158\n",
      "Epoch 41/50\n",
      "\u001b[1m488/488\u001b[0m \u001b[32m━━━━━━━━━━━━━━━━━━━━\u001b[0m\u001b[37m\u001b[0m \u001b[1m2s\u001b[0m 3ms/step - accuracy: 0.8953 - loss: 0.2124\n",
      "Epoch 42/50\n",
      "\u001b[1m488/488\u001b[0m \u001b[32m━━━━━━━━━━━━━━━━━━━━\u001b[0m\u001b[37m\u001b[0m \u001b[1m2s\u001b[0m 3ms/step - accuracy: 0.9022 - loss: 0.2108\n",
      "Epoch 43/50\n",
      "\u001b[1m488/488\u001b[0m \u001b[32m━━━━━━━━━━━━━━━━━━━━\u001b[0m\u001b[37m\u001b[0m \u001b[1m2s\u001b[0m 3ms/step - accuracy: 0.9111 - loss: 0.2045\n",
      "Epoch 44/50\n",
      "\u001b[1m488/488\u001b[0m \u001b[32m━━━━━━━━━━━━━━━━━━━━\u001b[0m\u001b[37m\u001b[0m \u001b[1m2s\u001b[0m 3ms/step - accuracy: 0.9074 - loss: 0.2066\n",
      "Epoch 45/50\n",
      "\u001b[1m488/488\u001b[0m \u001b[32m━━━━━━━━━━━━━━━━━━━━\u001b[0m\u001b[37m\u001b[0m \u001b[1m2s\u001b[0m 3ms/step - accuracy: 0.9075 - loss: 0.1901\n",
      "Epoch 46/50\n",
      "\u001b[1m488/488\u001b[0m \u001b[32m━━━━━━━━━━━━━━━━━━━━\u001b[0m\u001b[37m\u001b[0m \u001b[1m2s\u001b[0m 3ms/step - accuracy: 0.9092 - loss: 0.2029\n",
      "Epoch 47/50\n",
      "\u001b[1m488/488\u001b[0m \u001b[32m━━━━━━━━━━━━━━━━━━━━\u001b[0m\u001b[37m\u001b[0m \u001b[1m2s\u001b[0m 3ms/step - accuracy: 0.9069 - loss: 0.1975\n",
      "Epoch 48/50\n",
      "\u001b[1m488/488\u001b[0m \u001b[32m━━━━━━━━━━━━━━━━━━━━\u001b[0m\u001b[37m\u001b[0m \u001b[1m2s\u001b[0m 3ms/step - accuracy: 0.9094 - loss: 0.1947\n",
      "Epoch 49/50\n",
      "\u001b[1m488/488\u001b[0m \u001b[32m━━━━━━━━━━━━━━━━━━━━\u001b[0m\u001b[37m\u001b[0m \u001b[1m2s\u001b[0m 3ms/step - accuracy: 0.9052 - loss: 0.1971\n",
      "Epoch 50/50\n",
      "\u001b[1m488/488\u001b[0m \u001b[32m━━━━━━━━━━━━━━━━━━━━\u001b[0m\u001b[37m\u001b[0m \u001b[1m1s\u001b[0m 3ms/step - accuracy: 0.9152 - loss: 0.1967\n"
     ]
    },
    {
     "data": {
      "text/plain": [
       "<keras.src.callbacks.history.History at 0x1ee6e97b2d0>"
      ]
     },
     "execution_count": 19,
     "metadata": {},
     "output_type": "execute_result"
    }
   ],
   "source": [
    "# Train the model on training data\n",
    "model.fit(X_train, y_train, epochs=50, batch_size=10, verbose=1)\n"
   ]
  },
  {
   "cell_type": "code",
   "execution_count": 20,
   "id": "eb4d85a2",
   "metadata": {},
   "outputs": [
    {
     "name": "stdout",
     "output_type": "stream",
     "text": [
      "\u001b[1m39/39\u001b[0m \u001b[32m━━━━━━━━━━━━━━━━━━━━\u001b[0m\u001b[37m\u001b[0m \u001b[1m1s\u001b[0m 3ms/step - accuracy: 0.8617 - loss: 0.2824\n",
      "Test Loss: 0.3069896996021271\n",
      "Test Accuracy: 0.8515176177024841\n"
     ]
    }
   ],
   "source": [
    "# Evaluate the model on test data\n",
    "loss, accuracy = model.evaluate(X_test, y_test)\n",
    "print(f\"Test Loss: {loss}\")\n",
    "print(f\"Test Accuracy: {accuracy}\")\n"
   ]
  },
  {
   "cell_type": "code",
   "execution_count": 23,
   "id": "bedb41c9",
   "metadata": {},
   "outputs": [
    {
     "name": "stdout",
     "output_type": "stream",
     "text": [
      "Confusion Matrix:\n",
      "[[ 69  95]\n",
      " [ 86 969]]\n",
      "Classification Report:\n",
      "              precision    recall  f1-score   support\n",
      "\n",
      "           0       0.45      0.42      0.43       164\n",
      "           1       0.91      0.92      0.91      1055\n",
      "\n",
      "    accuracy                           0.85      1219\n",
      "   macro avg       0.68      0.67      0.67      1219\n",
      "weighted avg       0.85      0.85      0.85      1219\n",
      "\n"
     ]
    }
   ],
   "source": [
    "from sklearn.metrics import confusion_matrix, classification_report\n",
    "\n",
    "# Confusion matrix\n",
    "conf_matrix = confusion_matrix(y_test, y_pred)\n",
    "print(\"Confusion Matrix:\")\n",
    "print(conf_matrix)\n",
    "\n",
    "# Classification report\n",
    "report = classification_report(y_test, y_pred)\n",
    "print(\"Classification Report:\")\n",
    "print(report)\n"
   ]
  },
  {
   "cell_type": "markdown",
   "id": "95b2559e",
   "metadata": {},
   "source": [
    "| **Class**        | **Metric**     | **Value**                                                                         |\n",
    "|------------------|----------------|-----------------------------------------------------------------------------------|\n",
    "| **Class 0**      | Precision      | 0.45: When the model predicted class 0, it was correct 45% of the time.            |\n",
    "|                  | Recall         | 0.42: The model correctly identified 42% of the actual class 0 instances.          |\n",
    "|                  | F1-Score       | 0.43: A balance between precision and recall, indicating low performance for class 0. |\n",
    "|                  | Support        | 164: Fewer examples, contributing to the lower performance.                        |\n",
    "| **Class 1**      | Precision      | 0.91: When the model predicted class 1, it was correct 91% of the time.            |\n",
    "|                  | Recall         | 0.92: The model correctly identified 92% of the actual class 1 instances.          |\n",
    "|                  | F1-Score       | 0.91: A strong balance between precision and recall for class 1.                   |\n",
    "|                  | Support        | 1055: More examples, contributing to better performance.                          |\n",
    "| **Overall**      | Accuracy       | 0.85: The model correctly classified 85% of the total instances.                   |\n",
    "| **Macro Avg**    | Precision      | 0.68: Average precision across both classes.                                       |\n",
    "|                  | Recall         | 0.67: Average recall across both classes.                                          |\n",
    "|                  | F1-Score       | 0.67: Average F1-Score across both classes.                                        |\n",
    "| **Weighted Avg** | Precision      | 0.85: Precision weighted by the number of samples per class.                       |\n",
    "|                  | Recall         | 0.85: Recall weighted by the number of samples per class.                          |\n",
    "|                  | F1-Score       | 0.85: F1-Score weighted by the number of samples per class.                        |\n",
    "\n",
    "---\n",
    "\n",
    "**Key Insights**:\n",
    "\n",
    "| **Observation**        | **Explanation**                                                                                                      |\n",
    "|------------------------|----------------------------------------------------------------------------------------------------------------------|\n",
    "| **Class Imbalance**     | The model performs well on class 1 but struggles with class 0 due to class imbalance (fewer class 0 samples).        |\n",
    "| **Low Recall for Class 0** | The recall for class 0 is only 0.42, meaning the model fails to identify a significant portion of class 0 instances. |\n",
    "| **Potential Solutions** | - Address class imbalance with techniques like oversampling or undersampling.                                        |\n",
    "|                        | - Use alternative metrics like precision-recall curves, F1-score, or AUC.                                             |\n",
    "|                        | - Consider model tuning (e.g., adjusting class weights) to improve performance for class 0.                          |\n"
   ]
  },
  {
   "cell_type": "markdown",
   "id": "b59f2a80",
   "metadata": {},
   "source": [
    "# Solution - 02"
   ]
  },
  {
   "cell_type": "code",
   "execution_count": 1,
   "id": "f56417b2",
   "metadata": {},
   "outputs": [],
   "source": [
    "import tensorflow as tf\n",
    "from tensorflow.keras import layers, models\n",
    "from tensorflow.keras.datasets import mnist\n",
    "from tensorflow.keras.utils import to_categorical\n",
    "import matplotlib.pyplot as plt\n"
   ]
  },
  {
   "cell_type": "code",
   "execution_count": 2,
   "id": "353cbc59",
   "metadata": {},
   "outputs": [
    {
     "name": "stdout",
     "output_type": "stream",
     "text": [
      "Downloading data from https://storage.googleapis.com/tensorflow/tf-keras-datasets/mnist.npz\n",
      "\u001b[1m11490434/11490434\u001b[0m \u001b[32m━━━━━━━━━━━━━━━━━━━━\u001b[0m\u001b[37m\u001b[0m \u001b[1m6s\u001b[0m 1us/step\n"
     ]
    }
   ],
   "source": [
    "# Load the MNIST dataset\n",
    "(train_images, train_labels), (test_images, test_labels) = mnist.load_data()\n",
    "\n",
    "# Reshape the data to include a single channel (grayscale)\n",
    "train_images = train_images.reshape((60000, 28, 28, 1))\n",
    "test_images = test_images.reshape((10000, 28, 28, 1))\n",
    "\n",
    "# Normalize pixel values to the range 0-1\n",
    "train_images = train_images.astype('float32') / 255\n",
    "test_images = test_images.astype('float32') / 255\n",
    "\n",
    "# Convert labels to one-hot encoding\n",
    "train_labels = to_categorical(train_labels)\n",
    "test_labels = to_categorical(test_labels)\n"
   ]
  },
  {
   "cell_type": "code",
   "execution_count": 3,
   "id": "db272f02",
   "metadata": {},
   "outputs": [
    {
     "name": "stderr",
     "output_type": "stream",
     "text": [
      "C:\\Users\\LENOVO\\anaconda3\\Lib\\site-packages\\keras\\src\\layers\\convolutional\\base_conv.py:107: UserWarning: Do not pass an `input_shape`/`input_dim` argument to a layer. When using Sequential models, prefer using an `Input(shape)` object as the first layer in the model instead.\n",
      "  super().__init__(activity_regularizer=activity_regularizer, **kwargs)\n"
     ]
    }
   ],
   "source": [
    "# Define the CNN model\n",
    "model = models.Sequential()\n",
    "\n",
    "# First convolutional layer\n",
    "model.add(layers.Conv2D(32, (3, 3), activation='relu', input_shape=(28, 28, 1)))\n",
    "model.add(layers.MaxPooling2D((2, 2)))\n",
    "\n",
    "# Second convolutional layer\n",
    "model.add(layers.Conv2D(64, (3, 3), activation='relu'))\n",
    "model.add(layers.MaxPooling2D((2, 2)))\n",
    "\n",
    "# Third convolutional layer\n",
    "model.add(layers.Conv2D(64, (3, 3), activation='relu'))\n",
    "\n",
    "# Flatten the output\n",
    "model.add(layers.Flatten())\n",
    "\n",
    "# Fully connected layer\n",
    "model.add(layers.Dense(64, activation='relu'))\n",
    "\n",
    "# Output layer (for 10 classes)\n",
    "model.add(layers.Dense(10, activation='softmax'))\n"
   ]
  },
  {
   "cell_type": "code",
   "execution_count": 4,
   "id": "19f6fa46",
   "metadata": {},
   "outputs": [],
   "source": [
    "# Compile the model\n",
    "model.compile(optimizer='adam',\n",
    "              loss='categorical_crossentropy',\n",
    "              metrics=['accuracy'])\n"
   ]
  },
  {
   "cell_type": "code",
   "execution_count": 5,
   "id": "7678fa3b",
   "metadata": {},
   "outputs": [
    {
     "name": "stdout",
     "output_type": "stream",
     "text": [
      "Epoch 1/5\n",
      "\u001b[1m750/750\u001b[0m \u001b[32m━━━━━━━━━━━━━━━━━━━━\u001b[0m\u001b[37m\u001b[0m \u001b[1m14s\u001b[0m 15ms/step - accuracy: 0.8617 - loss: 0.4608 - val_accuracy: 0.9788 - val_loss: 0.0702\n",
      "Epoch 2/5\n",
      "\u001b[1m750/750\u001b[0m \u001b[32m━━━━━━━━━━━━━━━━━━━━\u001b[0m\u001b[37m\u001b[0m \u001b[1m10s\u001b[0m 14ms/step - accuracy: 0.9832 - loss: 0.0566 - val_accuracy: 0.9838 - val_loss: 0.0555\n",
      "Epoch 3/5\n",
      "\u001b[1m750/750\u001b[0m \u001b[32m━━━━━━━━━━━━━━━━━━━━\u001b[0m\u001b[37m\u001b[0m \u001b[1m10s\u001b[0m 13ms/step - accuracy: 0.9883 - loss: 0.0385 - val_accuracy: 0.9871 - val_loss: 0.0447\n",
      "Epoch 4/5\n",
      "\u001b[1m750/750\u001b[0m \u001b[32m━━━━━━━━━━━━━━━━━━━━\u001b[0m\u001b[37m\u001b[0m \u001b[1m10s\u001b[0m 13ms/step - accuracy: 0.9911 - loss: 0.0286 - val_accuracy: 0.9878 - val_loss: 0.0409\n",
      "Epoch 5/5\n",
      "\u001b[1m750/750\u001b[0m \u001b[32m━━━━━━━━━━━━━━━━━━━━\u001b[0m\u001b[37m\u001b[0m \u001b[1m10s\u001b[0m 13ms/step - accuracy: 0.9929 - loss: 0.0232 - val_accuracy: 0.9881 - val_loss: 0.0421\n"
     ]
    }
   ],
   "source": [
    "# Train the model\n",
    "history = model.fit(train_images, train_labels, epochs=5, \n",
    "                    batch_size=64, \n",
    "                    validation_split=0.2)\n"
   ]
  },
  {
   "cell_type": "code",
   "execution_count": 6,
   "id": "abc4a0fc",
   "metadata": {},
   "outputs": [
    {
     "data": {
      "image/png": "[encoded data removed]",
      "text/plain": [
       "<Figure size 640x480 with 1 Axes>"
      ]
     },
     "metadata": {},
     "output_type": "display_data"
    },
    {
     "data": {
      "image/png": "[encoded data removed]",
      "text/plain": [
       "<Figure size 640x480 with 1 Axes>"
      ]
     },
     "metadata": {},
     "output_type": "display_data"
    }
   ],
   "source": [
    "# Plot training & validation accuracy and loss\n",
    "plt.plot(history.history['accuracy'], label='Train Accuracy')\n",
    "plt.plot(history.history['val_accuracy'], label='Validation Accuracy')\n",
    "plt.xlabel('Epochs')\n",
    "plt.ylabel('Accuracy')\n",
    "plt.legend()\n",
    "plt.show()\n",
    "\n",
    "plt.plot(history.history['loss'], label='Train Loss')\n",
    "plt.plot(history.history['val_loss'], label='Validation Loss')\n",
    "plt.xlabel('Epochs')\n",
    "plt.ylabel('Loss')\n",
    "plt.legend()\n",
    "plt.show()\n"
   ]
  },
  {
   "cell_type": "markdown",
   "id": "c0bf7db4",
   "metadata": {},
   "source": [
    "#### First plot\n",
    "| **Observation**             | **Training Accuracy**                              | **Validation Accuracy**                              |\n",
    "|-----------------------------|----------------------------------------------------|-----------------------------------------------------|\n",
    "| **Starting Accuracy**        | Starts around 0.94 (94%) at epoch 0.               | Starts around 0.98 (98%) at epoch 0.                |\n",
    "| **Accuracy Trend**           | Steadily increases to above 0.99 (99%) by epoch 4. | Slightly increases up to 0.985 (98.5%) by epoch 4.  |\n",
    "| **Generalization**           | The model quickly learns to classify the training data well. | Remains fairly stable, showing good generalization to unseen data. |\n",
    "| **Overfitting Signs**        | After epoch 2, the training accuracy rises slightly beyond the validation accuracy. | The validation accuracy stabilizes while the training accuracy continues to improve, suggesting minimal overfitting. |\n",
    "| **Convergence**              | Training and validation accuracies are close to each other, indicating no significant overfitting. | The validation accuracy follows the training accuracy closely, with only a slight lag. |\n",
    "\n",
    "---\n",
    "\n",
    "**Key Insights:**\n",
    "- **Convergence**: The training and validation accuracies are closely aligned, indicating that the model performs similarly on both training and validation data.\n",
    "- **High Accuracy**: The model achieves very high accuracy on both datasets, suggesting it is well-trained for the task.\n",
    "- **Slight Overfitting**: After epoch 2, the training accuracy continues to rise beyond the validation accuracy, but the difference is minimal, indicating slight overfitting.\n"
   ]
  },
  {
   "cell_type": "markdown",
   "id": "3669cb02",
   "metadata": {},
   "source": [
    "#### second plot\n",
    "| **Observation**             | **Training Loss**                                   | **Validation Loss**                                  |\n",
    "|-----------------------------|----------------------------------------------------|----------------------------------------------------|\n",
    "| **Starting Loss**            | Starts around 0.2.                                | Starts around 0.075.                               |\n",
    "| **Loss Trend**               | Rapidly decreases after the first epoch, leveling off around 0.02 by epoch 4. | Gradually decreases, reaching a plateau around 0.05 by epoch 1.5 and remaining stable until epoch 4. |\n",
    "| **Generalization**           | Shows the model is learning well and fitting the training data. | Indicates good generalization with stable performance on unseen data. |\n",
    "| **Overfitting Signs**        | After epoch 3, the training loss keeps decreasing. | Slight increase after epoch 3, indicating slight overfitting. |\n",
    "| **Convergence**              | Shows no significant issues, training continues improving slightly. | Flat or slight increase after epoch 3, showing possible signs of overfitting. |\n",
    "\n",
    "---\n",
    "\n",
    "**Conclusion:**\n",
    "- **Good Fit**: Both losses decrease, showing effective learning.\n",
    "- **Slight Overfitting**: After epoch 3, the difference between the training and validation loss suggests potential overfitting.\n",
    "- **Recommendation**: Use techniques like early stopping or regularization to avoid overfitting as training progresses.\n"
   ]
  }
 ],
 "metadata": {
  "kernelspec": {
   "display_name": "Python 3 (ipykernel)",
   "language": "python",
   "name": "python3"
  },
  "language_info": {
   "codemirror_mode": {
    "name": "ipython",
    "version": 3
   },
   "file_extension": ".py",
   "mimetype": "text/x-python",
   "name": "python",
   "nbconvert_exporter": "python",
   "pygments_lexer": "ipython3",
   "version": "3.11.5"
  }
 },
 "nbformat": 4,
 "nbformat_minor": 5
}
