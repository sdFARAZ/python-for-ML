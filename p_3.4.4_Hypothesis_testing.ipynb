{
 "cells": [
  {
   "cell_type": "markdown",
   "id": "69874ef5",
   "metadata": {},
   "source": [
    "## 13-08-2024 : Practical No. 3.4.4 \n",
    "### Faraz Syed\n",
    "### J008 - 40518220007"
   ]
  },
  {
   "cell_type": "code",
   "execution_count": 1,
   "id": "00b92a85",
   "metadata": {},
   "outputs": [],
   "source": [
    "import numpy as np\n",
    "import pandas as pd\n",
    "import matplotlib.pyplot as plt\n",
    "import seaborn as sns"
   ]
  },
  {
   "cell_type": "markdown",
   "id": "941b2ba1",
   "metadata": {},
   "source": [
    "## Q1)"
   ]
  },
  {
   "cell_type": "code",
   "execution_count": 36,
   "id": "cf84b4fe",
   "metadata": {},
   "outputs": [],
   "source": [
    "iris = sns.load_dataset('iris')"
   ]
  },
  {
   "cell_type": "markdown",
   "id": "1c63b7be",
   "metadata": {},
   "source": [
    "#### a)"
   ]
  },
  {
   "cell_type": "code",
   "execution_count": 13,
   "id": "76cd7172",
   "metadata": {},
   "outputs": [
    {
     "name": "stdout",
     "output_type": "stream",
     "text": [
      "p-value is 0.01018026564270258\n",
      "Data does not follow normality\n"
     ]
    }
   ],
   "source": [
    "#checking normality using tests - shapiro wilks\n",
    "# if p-val > 0.05, accept H0 and conclude that data follows normality. \n",
    "from scipy.stats import shapiro\n",
    "stat,p1 = shapiro(iris['sepal_length'])\n",
    "print('p-value is',p1)\n",
    "if p1 > 0.05:\n",
    "    print('Data follows normality')\n",
    "else:\n",
    "    print('Data does not follow normality')\n"
   ]
  },
  {
   "cell_type": "code",
   "execution_count": 94,
   "id": "14267198",
   "metadata": {},
   "outputs": [
    {
     "data": {
      "image/png": "[encoded data removed]",
      "text/plain": [
       "<Figure size 500x400 with 1 Axes>"
      ]
     },
     "metadata": {},
     "output_type": "display_data"
    }
   ],
   "source": [
    "fig =plt.figure(figsize=(5,4))\n",
    "sns.histplot(iris['sepal_length'])\n",
    "plt.show()"
   ]
  },
  {
   "cell_type": "code",
   "execution_count": 14,
   "id": "73e06538",
   "metadata": {},
   "outputs": [
    {
     "name": "stdout",
     "output_type": "stream",
     "text": [
      "p-value is 7.412652158755861e-10\n",
      "Data does not follow normality\n"
     ]
    }
   ],
   "source": [
    "stat,p2 = shapiro(iris['petal_length'])\n",
    "print('p-value is',p2)\n",
    "if p2 > 0.05:\n",
    "    print('Data follows normality')\n",
    "else:\n",
    "    print('Data does not follow normality')"
   ]
  },
  {
   "cell_type": "code",
   "execution_count": 15,
   "id": "41f58217",
   "metadata": {},
   "outputs": [
    {
     "name": "stdout",
     "output_type": "stream",
     "text": [
      "p-value is 0.10112646222114563\n",
      "Data follows normality\n"
     ]
    }
   ],
   "source": [
    "stat,p3 = shapiro(iris['sepal_width'])\n",
    "print('p-value is',p3)\n",
    "if p3 > 0.05:\n",
    "    print('Data follows normality')\n",
    "else:\n",
    "    print('Data does not follow normality')"
   ]
  },
  {
   "cell_type": "code",
   "execution_count": 16,
   "id": "57e0c05c",
   "metadata": {},
   "outputs": [
    {
     "name": "stdout",
     "output_type": "stream",
     "text": [
      "p-value is 1.680264105630158e-08\n",
      "Data does not follow normality\n"
     ]
    }
   ],
   "source": [
    "stat,p4 = shapiro(iris['petal_width'])\n",
    "print('p-value is',p4)\n",
    "if p4 > 0.05:\n",
    "    print('Data follows normality')\n",
    "else:\n",
    "    print('Data does not follow normality')"
   ]
  },
  {
   "cell_type": "markdown",
   "id": "25a0cdce",
   "metadata": {},
   "source": [
    "#### b)"
   ]
  },
  {
   "cell_type": "code",
   "execution_count": 26,
   "id": "b65e42c7",
   "metadata": {},
   "outputs": [
    {
     "name": "stdout",
     "output_type": "stream",
     "text": [
      "Checking for setosa and virginica:\n",
      "t statistic =  -15.386195820079404 , p-value =  6.892546060674059e-28\n",
      "Reject null hypothesis and conclude that means are unequal\n"
     ]
    }
   ],
   "source": [
    "# H0: means are equal v/s H1: means are unequal \n",
    "\n",
    "from scipy.stats import ttest_ind\n",
    "setosa = iris[iris['species'] == 'setosa']['sepal_length']\n",
    "virginica = iris[iris['species'] == 'virginica']['sepal_length']\n",
    "versicolor = iris[iris['species'] == 'versicolor']['sepal_length']\n",
    "\n",
    "print('Checking for setosa and virginica:')\n",
    "t_stat,p_value=ttest_ind(setosa,virginica)\n",
    "print('t statistic = ',t_stat,',', 'p-value = ',p_value)\n",
    "\n",
    "alpha=0.05\n",
    "if p_value < alpha:\n",
    "    print('Reject null hypothesis and conclude that means are unequal')\n",
    "else:\n",
    "    print('Do not reject null hypothesis and conclude that means are equal')"
   ]
  },
  {
   "cell_type": "code",
   "execution_count": 27,
   "id": "9c22aedf",
   "metadata": {},
   "outputs": [
    {
     "name": "stdout",
     "output_type": "stream",
     "text": [
      "Checking for virginica and versicolor:\n",
      "t statistic =  5.629165259719801 , p-value =  1.7248563024547942e-07\n",
      "Reject null hypothesis and conclude that means are unequal\n"
     ]
    }
   ],
   "source": [
    "print('Checking for virginica and versicolor:')\n",
    "t_stat,p_value=ttest_ind(virginica,versicolor)\n",
    "print('t statistic = ',t_stat,',', 'p-value = ',p_value)\n",
    "\n",
    "alpha=0.05\n",
    "if p_value < alpha:\n",
    "    print('Reject null hypothesis and conclude that means are unequal')\n",
    "else:\n",
    "    print('Do not reject null hypothesis and conclude that means are equal')"
   ]
  },
  {
   "cell_type": "code",
   "execution_count": 34,
   "id": "05c78923",
   "metadata": {
    "scrolled": true
   },
   "outputs": [
    {
     "name": "stdout",
     "output_type": "stream",
     "text": [
      "Checking for setosa and versicolor:\n",
      "t statistic =  -10.52098626754911 , p-value =  8.985235037487079e-18\n",
      "Reject null hypothesis and conclude that means are unequal.\n"
     ]
    }
   ],
   "source": [
    "print('Checking for setosa and versicolor:')\n",
    "t_stat,p_value=ttest_ind(setosa,versicolor)\n",
    "print('t statistic = ',t_stat,',', 'p-value = ',p_value)\n",
    "\n",
    "alpha=0.05\n",
    "if p_value < alpha:\n",
    "    print('Reject null hypothesis and conclude that means are unequal.')\n",
    "else:\n",
    "    print('Do not reject null hypothesis and conclude that means are equal.')"
   ]
  },
  {
   "cell_type": "code",
   "execution_count": 56,
   "id": "bc791af7",
   "metadata": {},
   "outputs": [
    {
     "name": "stdout",
     "output_type": "stream",
     "text": [
      "Statistic =  16.005701874401502 , p-value =  0.0003345076070163035\n",
      "Reject null hypothesis and conclude that variances are unequal.\n"
     ]
    }
   ],
   "source": [
    "# using bartlett test to check for homogeniety \n",
    "# H0: Variances are equal  v/s  H1: Variances are unequal\n",
    "from scipy.stats import bartlett\n",
    "stat, p = bartlett(setosa,virginica,versicolor)\n",
    "print('Statistic = ',stat,',', 'p-value = ',p)\n",
    "alpha=0.05\n",
    "if p_value < alpha:\n",
    "    print('Reject null hypothesis and conclude that variances are unequal.')\n",
    "else:\n",
    "    print('Do not reject null hypothesis and conclude that variances are equal.')"
   ]
  },
  {
   "cell_type": "markdown",
   "id": "25c722d3",
   "metadata": {},
   "source": [
    "#### c)"
   ]
  },
  {
   "cell_type": "code",
   "execution_count": 35,
   "id": "40a0d73e",
   "metadata": {},
   "outputs": [
    {
     "name": "stdout",
     "output_type": "stream",
     "text": [
      "Statistic = 119.265, p-value = 0.000\n",
      "Mean sepal length for different species is different.\n"
     ]
    }
   ],
   "source": [
    "# checking equality of means of sepal length for setosa and versicolor and virginica.\n",
    "# H0: mean sepal length is same  v/s  H1: mean sepal length is different. \n",
    "from scipy.stats import f_oneway\n",
    "stat,p=f_oneway(setosa,virginica,versicolor)\n",
    "print('Statistic = %.3f, p-value = %.3f' % (stat,p))\n",
    "if p > 0.05:\n",
    "    print('Mean sepal length for different species is same.')\n",
    "else:\n",
    "    print('Mean sepal length for different species is different.')"
   ]
  },
  {
   "cell_type": "code",
   "execution_count": 43,
   "id": "73ce8457",
   "metadata": {},
   "outputs": [
    {
     "name": "stdout",
     "output_type": "stream",
     "text": [
      "One-Way ANOVA Hypothesis Testing:\n",
      "H0: the means of sepal_length are equal across all species.\n",
      "H1: At least one species has a mean sepal_length that is different from the others.\n",
      " \n",
      "             sum_sq     df           F        PR(>F)\n",
      "species   63.212133    2.0  119.264502  1.669669e-31\n",
      "Residual  38.956200  147.0         NaN           NaN\n",
      "\n",
      "Reject H0. There is a significant difference in sepal_length across species.\n"
     ]
    }
   ],
   "source": [
    "#OR\n",
    "\n",
    "import statsmodels.api as sm\n",
    "import statsmodels.formula.api as smf\n",
    "\n",
    "anova = smf.ols('sepal_length ~ species', data=iris).fit()\n",
    "anova_table = sm.stats.anova_lm(anova,typ = 2)\n",
    "\n",
    "# Define the hypothesis\n",
    "\n",
    "print(\"One-Way ANOVA Hypothesis Testing:\")\n",
    "print(\"H0: the means of sepal_length are equal across all species.\")\n",
    "print(\"H1: At least one species has a mean sepal_length that is different from the others.\")\n",
    "print(' ')\n",
    "#Print the ANOVA table \n",
    "print(anova_table)\n",
    "\n",
    "#Interpretation of p-value\n",
    "p_value = anova_table['PR(>F)'][0] \n",
    "if p_value > 0.05:\n",
    "    print(\"\\nFail to reject H0. There is no significant difference in sepal_length across species.\")\n",
    "else: \n",
    "    print(\"\\nReject H0. There is a significant difference in sepal_length across species.\")"
   ]
  },
  {
   "cell_type": "markdown",
   "id": "12f28ae7",
   "metadata": {},
   "source": [
    "#### d)"
   ]
  },
  {
   "cell_type": "code",
   "execution_count": 53,
   "id": "ad6de5b5",
   "metadata": {},
   "outputs": [
    {
     "name": "stdout",
     "output_type": "stream",
     "text": [
      "Statistic = 96.937, p-value = 0.000\n",
      "Reject H0. Median is unequal for all species.\n"
     ]
    }
   ],
   "source": [
    "#Using kruskal wallis \n",
    "# H0: Median is equal for all species  v/s  H1: Median is unequal for all species.\n",
    "from scipy import stats\n",
    "stat, p = stats.kruskal(setosa,virginica,versicolor)\n",
    "print('Statistic = %.3f, p-value = %.3f' % (stat,p))\n",
    "if p > 0.05:\n",
    "    print(\"Fail to reject H0. Median is equal for all species. \")\n",
    "else: \n",
    "    print(\"Reject H0. Median is unequal for all species.\")"
   ]
  },
  {
   "cell_type": "markdown",
   "id": "9106e12e",
   "metadata": {},
   "source": [
    "### Q2)"
   ]
  },
  {
   "cell_type": "code",
   "execution_count": 2,
   "id": "560e8ed2",
   "metadata": {},
   "outputs": [
    {
     "data": {
      "text/html": [
       "<div>\n",
       "<style scoped>\n",
       "    .dataframe tbody tr th:only-of-type {\n",
       "        vertical-align: middle;\n",
       "    }\n",
       "\n",
       "    .dataframe tbody tr th {\n",
       "        vertical-align: top;\n",
       "    }\n",
       "\n",
       "    .dataframe thead th {\n",
       "        text-align: right;\n",
       "    }\n",
       "</style>\n",
       "<table border=\"1\" class=\"dataframe\">\n",
       "  <thead>\n",
       "    <tr style=\"text-align: right;\">\n",
       "      <th></th>\n",
       "      <th>species</th>\n",
       "      <th>island</th>\n",
       "      <th>bill_length_mm</th>\n",
       "      <th>bill_depth_mm</th>\n",
       "      <th>flipper_length_mm</th>\n",
       "      <th>body_mass_g</th>\n",
       "      <th>sex</th>\n",
       "    </tr>\n",
       "  </thead>\n",
       "  <tbody>\n",
       "    <tr>\n",
       "      <th>0</th>\n",
       "      <td>Adelie</td>\n",
       "      <td>Torgersen</td>\n",
       "      <td>39.1</td>\n",
       "      <td>18.7</td>\n",
       "      <td>181.0</td>\n",
       "      <td>3750.0</td>\n",
       "      <td>Male</td>\n",
       "    </tr>\n",
       "    <tr>\n",
       "      <th>1</th>\n",
       "      <td>Adelie</td>\n",
       "      <td>Torgersen</td>\n",
       "      <td>39.5</td>\n",
       "      <td>17.4</td>\n",
       "      <td>186.0</td>\n",
       "      <td>3800.0</td>\n",
       "      <td>Female</td>\n",
       "    </tr>\n",
       "  </tbody>\n",
       "</table>\n",
       "</div>"
      ],
      "text/plain": [
       "  species     island  bill_length_mm  bill_depth_mm  flipper_length_mm  \\\n",
       "0  Adelie  Torgersen            39.1           18.7              181.0   \n",
       "1  Adelie  Torgersen            39.5           17.4              186.0   \n",
       "\n",
       "   body_mass_g     sex  \n",
       "0       3750.0    Male  \n",
       "1       3800.0  Female  "
      ]
     },
     "execution_count": 2,
     "metadata": {},
     "output_type": "execute_result"
    }
   ],
   "source": [
    "penguins = sns.load_dataset('penguins')\n",
    "penguins.head(2)"
   ]
  },
  {
   "cell_type": "code",
   "execution_count": 67,
   "id": "6b2ecef9",
   "metadata": {},
   "outputs": [
    {
     "data": {
      "text/plain": [
       "species               0\n",
       "island                0\n",
       "bill_length_mm        2\n",
       "bill_depth_mm         2\n",
       "flipper_length_mm     2\n",
       "body_mass_g           2\n",
       "sex                  11\n",
       "dtype: int64"
      ]
     },
     "execution_count": 67,
     "metadata": {},
     "output_type": "execute_result"
    }
   ],
   "source": [
    "penguins.isnull().sum()"
   ]
  },
  {
   "cell_type": "code",
   "execution_count": 3,
   "id": "2ea08cdd",
   "metadata": {},
   "outputs": [],
   "source": [
    "penguins.dropna(inplace=True)"
   ]
  },
  {
   "cell_type": "code",
   "execution_count": 4,
   "id": "a157be57",
   "metadata": {},
   "outputs": [
    {
     "data": {
      "text/plain": [
       "species              0\n",
       "island               0\n",
       "bill_length_mm       0\n",
       "bill_depth_mm        0\n",
       "flipper_length_mm    0\n",
       "body_mass_g          0\n",
       "sex                  0\n",
       "dtype: int64"
      ]
     },
     "execution_count": 4,
     "metadata": {},
     "output_type": "execute_result"
    }
   ],
   "source": [
    "penguins.isnull().sum()"
   ]
  },
  {
   "cell_type": "code",
   "execution_count": 71,
   "id": "8eb262f8",
   "metadata": {},
   "outputs": [
    {
     "data": {
      "text/html": [
       "<div>\n",
       "<style scoped>\n",
       "    .dataframe tbody tr th:only-of-type {\n",
       "        vertical-align: middle;\n",
       "    }\n",
       "\n",
       "    .dataframe tbody tr th {\n",
       "        vertical-align: top;\n",
       "    }\n",
       "\n",
       "    .dataframe thead th {\n",
       "        text-align: right;\n",
       "    }\n",
       "</style>\n",
       "<table border=\"1\" class=\"dataframe\">\n",
       "  <thead>\n",
       "    <tr style=\"text-align: right;\">\n",
       "      <th></th>\n",
       "      <th>bill_length_mm</th>\n",
       "      <th>bill_depth_mm</th>\n",
       "      <th>flipper_length_mm</th>\n",
       "      <th>body_mass_g</th>\n",
       "    </tr>\n",
       "  </thead>\n",
       "  <tbody>\n",
       "    <tr>\n",
       "      <th>count</th>\n",
       "      <td>333.000000</td>\n",
       "      <td>333.000000</td>\n",
       "      <td>333.000000</td>\n",
       "      <td>333.000000</td>\n",
       "    </tr>\n",
       "    <tr>\n",
       "      <th>mean</th>\n",
       "      <td>43.992793</td>\n",
       "      <td>17.164865</td>\n",
       "      <td>200.966967</td>\n",
       "      <td>4207.057057</td>\n",
       "    </tr>\n",
       "    <tr>\n",
       "      <th>std</th>\n",
       "      <td>5.468668</td>\n",
       "      <td>1.969235</td>\n",
       "      <td>14.015765</td>\n",
       "      <td>805.215802</td>\n",
       "    </tr>\n",
       "    <tr>\n",
       "      <th>min</th>\n",
       "      <td>32.100000</td>\n",
       "      <td>13.100000</td>\n",
       "      <td>172.000000</td>\n",
       "      <td>2700.000000</td>\n",
       "    </tr>\n",
       "    <tr>\n",
       "      <th>25%</th>\n",
       "      <td>39.500000</td>\n",
       "      <td>15.600000</td>\n",
       "      <td>190.000000</td>\n",
       "      <td>3550.000000</td>\n",
       "    </tr>\n",
       "    <tr>\n",
       "      <th>50%</th>\n",
       "      <td>44.500000</td>\n",
       "      <td>17.300000</td>\n",
       "      <td>197.000000</td>\n",
       "      <td>4050.000000</td>\n",
       "    </tr>\n",
       "    <tr>\n",
       "      <th>75%</th>\n",
       "      <td>48.600000</td>\n",
       "      <td>18.700000</td>\n",
       "      <td>213.000000</td>\n",
       "      <td>4775.000000</td>\n",
       "    </tr>\n",
       "    <tr>\n",
       "      <th>max</th>\n",
       "      <td>59.600000</td>\n",
       "      <td>21.500000</td>\n",
       "      <td>231.000000</td>\n",
       "      <td>6300.000000</td>\n",
       "    </tr>\n",
       "  </tbody>\n",
       "</table>\n",
       "</div>"
      ],
      "text/plain": [
       "       bill_length_mm  bill_depth_mm  flipper_length_mm  body_mass_g\n",
       "count      333.000000     333.000000         333.000000   333.000000\n",
       "mean        43.992793      17.164865         200.966967  4207.057057\n",
       "std          5.468668       1.969235          14.015765   805.215802\n",
       "min         32.100000      13.100000         172.000000  2700.000000\n",
       "25%         39.500000      15.600000         190.000000  3550.000000\n",
       "50%         44.500000      17.300000         197.000000  4050.000000\n",
       "75%         48.600000      18.700000         213.000000  4775.000000\n",
       "max         59.600000      21.500000         231.000000  6300.000000"
      ]
     },
     "execution_count": 71,
     "metadata": {},
     "output_type": "execute_result"
    }
   ],
   "source": [
    "penguins.describe()"
   ]
  },
  {
   "cell_type": "code",
   "execution_count": null,
   "id": "7ccd4902",
   "metadata": {},
   "outputs": [],
   "source": [
    "# don't solve (a)"
   ]
  },
  {
   "cell_type": "code",
   "execution_count": 5,
   "id": "e7eb5a57",
   "metadata": {},
   "outputs": [],
   "source": [
    "male = penguins[penguins['sex'] == 'Male']['body_mass_g']\n",
    "female = penguins[penguins['sex'] == 'Female']['body_mass_g']"
   ]
  },
  {
   "cell_type": "markdown",
   "id": "fbf3db72",
   "metadata": {},
   "source": [
    "#### b)"
   ]
  },
  {
   "cell_type": "code",
   "execution_count": 72,
   "id": "327576b7",
   "metadata": {},
   "outputs": [
    {
     "data": {
      "text/plain": [
       "array(['Adelie', 'Chinstrap', 'Gentoo'], dtype=object)"
      ]
     },
     "execution_count": 72,
     "metadata": {},
     "output_type": "execute_result"
    }
   ],
   "source": [
    "penguins['species'].unique()"
   ]
  },
  {
   "cell_type": "code",
   "execution_count": 74,
   "id": "e4b40828",
   "metadata": {},
   "outputs": [
    {
     "name": "stdout",
     "output_type": "stream",
     "text": [
      "Statistic = 567.407, p-value = 0.000\n",
      "Mean flipper length for different species is different.\n"
     ]
    }
   ],
   "source": [
    "adelie = penguins[penguins['species'] == 'Adelie']['flipper_length_mm']\n",
    "chinstrap = penguins[penguins['species'] == 'Chinstrap']['flipper_length_mm']\n",
    "gentoo = penguins[penguins['species'] == 'Gentoo']['flipper_length_mm']\n",
    "stat,p=f_oneway(adelie,chinstrap,gentoo)\n",
    "print('Statistic = %.3f, p-value = %.3f' % (stat,p))\n",
    "if p > 0.05:\n",
    "    print('Mean flipper length for different species is same.')\n",
    "else:\n",
    "    print('Mean flipper length for different species is different.')"
   ]
  },
  {
   "cell_type": "code",
   "execution_count": 87,
   "id": "ebf1d208",
   "metadata": {
    "scrolled": true
   },
   "outputs": [
    {
     "data": {
      "text/html": [
       "<div>\n",
       "<style scoped>\n",
       "    .dataframe tbody tr th:only-of-type {\n",
       "        vertical-align: middle;\n",
       "    }\n",
       "\n",
       "    .dataframe tbody tr th {\n",
       "        vertical-align: top;\n",
       "    }\n",
       "\n",
       "    .dataframe thead th {\n",
       "        text-align: right;\n",
       "    }\n",
       "</style>\n",
       "<table border=\"1\" class=\"dataframe\">\n",
       "  <thead>\n",
       "    <tr style=\"text-align: right;\">\n",
       "      <th></th>\n",
       "      <th>df</th>\n",
       "      <th>sum_sq</th>\n",
       "      <th>mean_sq</th>\n",
       "      <th>F</th>\n",
       "      <th>PR(&gt;F)</th>\n",
       "    </tr>\n",
       "  </thead>\n",
       "  <tbody>\n",
       "    <tr>\n",
       "      <th>species</th>\n",
       "      <td>2.0</td>\n",
       "      <td>50525.883615</td>\n",
       "      <td>25262.941807</td>\n",
       "      <td>567.406992</td>\n",
       "      <td>1.587418e-107</td>\n",
       "    </tr>\n",
       "    <tr>\n",
       "      <th>Residual</th>\n",
       "      <td>330.0</td>\n",
       "      <td>14692.753022</td>\n",
       "      <td>44.523494</td>\n",
       "      <td>NaN</td>\n",
       "      <td>NaN</td>\n",
       "    </tr>\n",
       "  </tbody>\n",
       "</table>\n",
       "</div>"
      ],
      "text/plain": [
       "             df        sum_sq       mean_sq           F         PR(>F)\n",
       "species     2.0  50525.883615  25262.941807  567.406992  1.587418e-107\n",
       "Residual  330.0  14692.753022     44.523494         NaN            NaN"
      ]
     },
     "execution_count": 87,
     "metadata": {},
     "output_type": "execute_result"
    }
   ],
   "source": [
    "# OR \n",
    "\n",
    "model=ols('flipper_length_mm ~ species',data=penguins).fit()\n",
    "sm.stats.anova_lm(model,typ=1)"
   ]
  },
  {
   "cell_type": "markdown",
   "id": "dd4d03a9",
   "metadata": {},
   "source": [
    "#### c)"
   ]
  },
  {
   "cell_type": "code",
   "execution_count": 75,
   "id": "df9ebe40",
   "metadata": {},
   "outputs": [
    {
     "data": {
      "text/plain": [
       "array(['Torgersen', 'Biscoe', 'Dream'], dtype=object)"
      ]
     },
     "execution_count": 75,
     "metadata": {},
     "output_type": "execute_result"
    }
   ],
   "source": [
    "penguins['island'].unique()"
   ]
  },
  {
   "cell_type": "code",
   "execution_count": 88,
   "id": "7d47ed2e",
   "metadata": {},
   "outputs": [
    {
     "name": "stderr",
     "output_type": "stream",
     "text": [
      "C:\\ProgramData\\anaconda3\\Lib\\site-packages\\statsmodels\\base\\model.py:1871: ValueWarning: covariance of constraints does not have full rank. The number of constraints is 8, but rank is 4\n",
      "  warnings.warn('covariance of constraints does not have full '\n"
     ]
    },
    {
     "data": {
      "text/html": [
       "<div>\n",
       "<style scoped>\n",
       "    .dataframe tbody tr th:only-of-type {\n",
       "        vertical-align: middle;\n",
       "    }\n",
       "\n",
       "    .dataframe tbody tr th {\n",
       "        vertical-align: top;\n",
       "    }\n",
       "\n",
       "    .dataframe thead th {\n",
       "        text-align: right;\n",
       "    }\n",
       "</style>\n",
       "<table border=\"1\" class=\"dataframe\">\n",
       "  <thead>\n",
       "    <tr style=\"text-align: right;\">\n",
       "      <th></th>\n",
       "      <th>sum_sq</th>\n",
       "      <th>df</th>\n",
       "      <th>F</th>\n",
       "      <th>PR(&gt;F)</th>\n",
       "    </tr>\n",
       "  </thead>\n",
       "  <tbody>\n",
       "    <tr>\n",
       "      <th>island</th>\n",
       "      <td>234.420198</td>\n",
       "      <td>2.0</td>\n",
       "      <td>2.647746</td>\n",
       "      <td>7.232397e-02</td>\n",
       "    </tr>\n",
       "    <tr>\n",
       "      <th>species</th>\n",
       "      <td>26720.641426</td>\n",
       "      <td>2.0</td>\n",
       "      <td>301.806206</td>\n",
       "      <td>4.453759e-75</td>\n",
       "    </tr>\n",
       "    <tr>\n",
       "      <th>C(island):C(species)</th>\n",
       "      <td>101397.544419</td>\n",
       "      <td>8.0</td>\n",
       "      <td>286.318054</td>\n",
       "      <td>1.299456e-105</td>\n",
       "    </tr>\n",
       "    <tr>\n",
       "      <th>Residual</th>\n",
       "      <td>14519.864427</td>\n",
       "      <td>328.0</td>\n",
       "      <td>NaN</td>\n",
       "      <td>NaN</td>\n",
       "    </tr>\n",
       "  </tbody>\n",
       "</table>\n",
       "</div>"
      ],
      "text/plain": [
       "                             sum_sq     df           F         PR(>F)\n",
       "island                   234.420198    2.0    2.647746   7.232397e-02\n",
       "species                26720.641426    2.0  301.806206   4.453759e-75\n",
       "C(island):C(species)  101397.544419    8.0  286.318054  1.299456e-105\n",
       "Residual               14519.864427  328.0         NaN            NaN"
      ]
     },
     "execution_count": 88,
     "metadata": {},
     "output_type": "execute_result"
    }
   ],
   "source": [
    "import statsmodels.api as sm\n",
    "from statsmodels.formula.api import ols\n",
    "model=ols('flipper_length_mm ~ island + species + C(island):C(species)',data=penguins).fit()\n",
    "sm.stats.anova_lm(model,typ=2)"
   ]
  },
  {
   "cell_type": "raw",
   "id": "0c6c7bc5",
   "metadata": {},
   "source": [
    "Here, We can see the following p-values for each of the factors in the table:\n",
    "\n",
    "species: p-value = 4.4537e-75\n",
    "island: p-value = 0.0723\n",
    "species*island: p-value = 1.299456e-105\n",
    "\n",
    "Since the p-value for species is less than 0.05, this means that both factors do not have a statistically significant effect on flipper length.\n",
    "\n",
    "Since the p-value for island is greater than 0.05, this means that both factors have a statistically significant effect on flipper length.\n",
    "\n",
    "And since the p-value for the interaction effect (1.299456e-105) is less than 0.05, this tells us that there is significant interaction effect between species and island. "
   ]
  },
  {
   "cell_type": "markdown",
   "id": "fbecc5d1",
   "metadata": {},
   "source": [
    "#### d) check the normality of flipper length"
   ]
  },
  {
   "cell_type": "code",
   "execution_count": 89,
   "id": "99bea69a",
   "metadata": {},
   "outputs": [
    {
     "name": "stdout",
     "output_type": "stream",
     "text": [
      "p-value is 5.392858604125195e-09\n",
      "flipper_length_mm does not follow normality\n"
     ]
    }
   ],
   "source": [
    "from scipy.stats import shapiro\n",
    "stat,p1 = shapiro(penguins['flipper_length_mm'])\n",
    "print('p-value is',p1)\n",
    "if p1 > 0.05:\n",
    "    print('flipper_length_mm follows normality')\n",
    "else:\n",
    "    print('flipper_length_mm does not follow normality')"
   ]
  },
  {
   "cell_type": "code",
   "execution_count": 93,
   "id": "4d0b01a1",
   "metadata": {},
   "outputs": [
    {
     "data": {
      "image/png": "[encoded data removed]",
      "text/plain": [
       "<Figure size 500x400 with 1 Axes>"
      ]
     },
     "metadata": {},
     "output_type": "display_data"
    }
   ],
   "source": [
    "fig =plt.figure(figsize=(5,4))\n",
    "sns.histplot(penguins['flipper_length_mm'])\n",
    "plt.show()"
   ]
  },
  {
   "cell_type": "markdown",
   "id": "47e7a2fb",
   "metadata": {},
   "source": [
    "#### e)"
   ]
  },
  {
   "cell_type": "code",
   "execution_count": 96,
   "id": "53137a4c",
   "metadata": {},
   "outputs": [
    {
     "name": "stdout",
     "output_type": "stream",
     "text": [
      "Z statistic =  0.9517050385475159 , p-value =  2.610359598716445e-11\n",
      "Reject null hypothesis and conclude that means of bill lengths of male and female penguins are not same. \n"
     ]
    }
   ],
   "source": [
    "from statsmodels.stats.weightstats import ztest as ztest\n",
    "\n",
    "male = penguins[penguins['sex'] == 'Male']['bill_length_mm']\n",
    "female = penguins[penguins['sex'] == 'Female']['bill_length_mm']\n",
    "stats,pval=ztest(male,female,value=0)\n",
    "print('Z statistic = ',stat,',', 'p-value = ',pval)\n",
    "\n",
    "alpha=0.05\n",
    "if pval < alpha:\n",
    "    print('Reject null hypothesis and conclude that means of bill lengths of male and female penguins are not same. ')\n",
    "else:\n",
    "    print('Do not reject null hypothesis and conclude that means of bill lengths of male and female penguins are same.')"
   ]
  },
  {
   "cell_type": "markdown",
   "id": "932cd6cc",
   "metadata": {},
   "source": [
    "#### f)"
   ]
  },
  {
   "cell_type": "code",
   "execution_count": 100,
   "id": "ef08da69",
   "metadata": {},
   "outputs": [
    {
     "name": "stdout",
     "output_type": "stream",
     "text": [
      "U statistic =  19542.0 , p-value =  9.901184093608371e-11\n",
      "Reject null hypothesis and conclude that means of bill lengths of male and female penguins are not same.\n"
     ]
    }
   ],
   "source": [
    "# using wilcoxon as only two categories. more than 2, kruskal wallis. \n",
    "# can't use wilcoxon here as male and female do not have equal size. so we use mann-whitney\n",
    "\n",
    "from scipy.stats import mannwhitneyu\n",
    "\n",
    "stat,pval=mannwhitneyu(male,female)\n",
    "print('U statistic = ',stat,',', 'p-value = ',pval)\n",
    "\n",
    "alpha=0.05\n",
    "if pval < alpha:\n",
    "    print('Reject null hypothesis and conclude that means of bill lengths of male and female penguins are not same.')\n",
    "else:\n",
    "    print('Do not reject null hypothesis and conclude that means of bill lengths of male and female penguins are same.')"
   ]
  },
  {
   "cell_type": "markdown",
   "id": "c32f750b",
   "metadata": {},
   "source": [
    "### Q3)"
   ]
  },
  {
   "cell_type": "code",
   "execution_count": 102,
   "id": "ea0ea406",
   "metadata": {},
   "outputs": [
    {
     "name": "stdout",
     "output_type": "stream",
     "text": [
      "Statistic =  5.0127344877344875 , p-value =  0.542180861413329\n",
      "Do not reject null hypothesis and conclude that observed value does not differ from expected value.\n"
     ]
    }
   ],
   "source": [
    "# H0: observed value does not differ from expected value   v/s H1: observed value differs from expected value\n",
    "observed = [8,6,10,7,8,11,9]\n",
    "expected = [9,8,11,8,10,7,6]\n",
    "\n",
    "import scipy.stats as stats \n",
    "stat,pval=stats.chisquare(f_obs=observed,f_exp=expected)\n",
    "print('Statistic = ',stat,',', 'p-value = ',pval)\n",
    "alpha=0.05\n",
    "if pval < alpha:\n",
    "    print('Reject null hypothesis and conclude that observed value differs from expected value.')\n",
    "else:\n",
    "    print('Do not reject null hypothesis and conclude that observed value does not differ from expected value.')"
   ]
  },
  {
   "cell_type": "markdown",
   "id": "34ed1282",
   "metadata": {},
   "source": [
    "### Q4)"
   ]
  },
  {
   "cell_type": "code",
   "execution_count": 7,
   "id": "eecf1da4",
   "metadata": {},
   "outputs": [
    {
     "data": {
      "image/png": "[encoded data removed]",
      "text/plain": [
       "<Figure size 640x480 with 1 Axes>"
      ]
     },
     "metadata": {},
     "output_type": "display_data"
    }
   ],
   "source": [
    "sns.regplot(x='body_mass_g',y='flipper_length_mm',color='purple',data=penguins)\n",
    "plt.title('Regression Plot',size=15)\n",
    "plt.show()"
   ]
  },
  {
   "cell_type": "code",
   "execution_count": 6,
   "id": "aa4cceef",
   "metadata": {
    "scrolled": false
   },
   "outputs": [
    {
     "name": "stdout",
     "output_type": "stream",
     "text": [
      "                            OLS Regression Results                            \n",
      "==============================================================================\n",
      "Dep. Variable:            body_mass_g   R-squared:                       0.762\n",
      "Model:                            OLS   Adj. R-squared:                  0.761\n",
      "Method:                 Least Squares   F-statistic:                     1060.\n",
      "Date:                Fri, 16 Aug 2024   Prob (F-statistic):          3.13e-105\n",
      "Time:                        11:17:28   Log-Likelihood:                -2461.1\n",
      "No. Observations:                 333   AIC:                             4926.\n",
      "Df Residuals:                     331   BIC:                             4934.\n",
      "Df Model:                           1                                         \n",
      "Covariance Type:            nonrobust                                         \n",
      "=====================================================================================\n",
      "                        coef    std err          t      P>|t|      [0.025      0.975]\n",
      "-------------------------------------------------------------------------------------\n",
      "Intercept         -5872.0927    310.285    -18.925      0.000   -6482.472   -5261.713\n",
      "flipper_length_mm    50.1533      1.540     32.562      0.000      47.123      53.183\n",
      "==============================================================================\n",
      "Omnibus:                        5.922   Durbin-Watson:                   2.102\n",
      "Prob(Omnibus):                  0.052   Jarque-Bera (JB):                5.876\n",
      "Skew:                           0.325   Prob(JB):                       0.0530\n",
      "Kurtosis:                       3.025   Cond. No.                     2.90e+03\n",
      "==============================================================================\n",
      "\n",
      "Notes:\n",
      "[1] Standard Errors assume that the covariance matrix of the errors is correctly specified.\n",
      "[2] The condition number is large, 2.9e+03. This might indicate that there are\n",
      "strong multicollinearity or other numerical problems.\n"
     ]
    }
   ],
   "source": [
    "import statsmodels.api as sm\n",
    "model=sm.OLS.from_formula('body_mass_g ~ flipper_length_mm',data=penguins).fit()\n",
    "print(model.summary())"
   ]
  },
  {
   "cell_type": "raw",
   "id": "c0aa47df",
   "metadata": {},
   "source": [
    "Here, r-square = 0.762 which means about 76.2% of variation in the data is explained by the model. "
   ]
  },
  {
   "cell_type": "markdown",
   "id": "927760db",
   "metadata": {},
   "source": [
    "### Q5)"
   ]
  },
  {
   "cell_type": "code",
   "execution_count": 13,
   "id": "fb6e420b",
   "metadata": {},
   "outputs": [
    {
     "name": "stdout",
     "output_type": "stream",
     "text": [
      "[17.68362097  8.35814654  8.53837932 14.41533269 18.62180341 11.27924496\n",
      " 17.80796397 11.46848794  9.43237408 14.39820257]\n"
     ]
    }
   ],
   "source": [
    "from scipy.stats import uniform\n",
    "data_uniform = uniform.rvs(size=10, loc = 1, scale=20)\n",
    "print(data_uniform)"
   ]
  },
  {
   "cell_type": "code",
   "execution_count": 18,
   "id": "da9e337d",
   "metadata": {},
   "outputs": [
    {
     "name": "stdout",
     "output_type": "stream",
     "text": [
      "[ -7.77299185   0.57291384  40.96020695 -53.49278198 -11.8074313\n",
      " -43.92083772   7.79800504 -18.20412655  -8.37061492  24.94003731]\n"
     ]
    }
   ],
   "source": [
    "from scipy.stats import norm\n",
    "data_normal = norm.rvs(size=10,loc=1,scale=20)\n",
    "print(data_normal)"
   ]
  },
  {
   "cell_type": "code",
   "execution_count": 19,
   "id": "23dec2c0",
   "metadata": {},
   "outputs": [
    {
     "name": "stdout",
     "output_type": "stream",
     "text": [
      "[33.76546515 20.13837654  1.2130529  30.74083667  7.99361429 19.05691335\n",
      "  9.34459995 33.50075703  4.83740223 41.81051328]\n"
     ]
    }
   ],
   "source": [
    "from scipy.stats import expon\n",
    "data_exponential = expon.rvs(scale=20,loc=1,size=10)\n",
    "print(data_exponential)"
   ]
  },
  {
   "cell_type": "code",
   "execution_count": 23,
   "id": "fe781913",
   "metadata": {},
   "outputs": [
    {
     "name": "stdout",
     "output_type": "stream",
     "text": [
      "[ 5  6  6  4  7  7  8  7  9 10]\n"
     ]
    }
   ],
   "source": [
    "from scipy.stats import binom\n",
    "data_binomial = binom.rvs(n=10,p=0.75,size=10)\n",
    "print(data_binomial)"
   ]
  }
 ],
 "metadata": {
  "kernelspec": {
   "display_name": "Python 3 (ipykernel)",
   "language": "python",
   "name": "python3"
  },
  "language_info": {
   "codemirror_mode": {
    "name": "ipython",
    "version": 3
   },
   "file_extension": ".py",
   "mimetype": "text/x-python",
   "name": "python",
   "nbconvert_exporter": "python",
   "pygments_lexer": "ipython3",
   "version": "3.11.5"
  }
 },
 "nbformat": 4,
 "nbformat_minor": 5
}
